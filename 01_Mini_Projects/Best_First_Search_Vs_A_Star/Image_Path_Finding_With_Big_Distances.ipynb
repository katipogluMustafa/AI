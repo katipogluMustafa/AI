{
 "cells": [
  {
   "cell_type": "code",
   "execution_count": 1,
   "metadata": {},
   "outputs": [],
   "source": [
    "import math\n",
    "import os\n",
    "import random\n",
    "from PIL import Image\n",
    "from timeit import default_timer"
   ]
  },
  {
   "cell_type": "code",
   "execution_count": 2,
   "metadata": {},
   "outputs": [],
   "source": [
    "############################################################################\n",
    "########################----Pixel Class----#################################\n",
    "############################################################################\n",
    "class Pixel:\n",
    "    \"\"\"\n",
    "        Always setup static variables: 'is_a_star', 'target'\n",
    "    \"\"\"\n",
    "    is_a_star = False  # False -> Best First Search, True-> A*\n",
    "    target = (5, 7)  # Target to which we calculate the Heuristic Function\n",
    "\n",
    "    def __init__(self, x, y, color, parent_cost):\n",
    "        self.x = x\n",
    "        self.y = y\n",
    "        self.color = color\n",
    "        self.cost = parent_cost + Pixel.get_pixel_cost(color)\n",
    "\n",
    "    # Evaluating Pixel Values\n",
    "\n",
    "    def h(self):\n",
    "        \"\"\" Heuristic Function\"\"\"\n",
    "        return Pixel.euclidean_distance(self.x, self.y, Pixel.target[0], Pixel.target[1])\n",
    "\n",
    "    def g(self):\n",
    "        \"\"\" Cost Function\"\"\"\n",
    "        return self.cost\n",
    "\n",
    "    def f(self):\n",
    "        if not Pixel.is_a_star:\n",
    "            return self.h()  # -> Best First Search\n",
    "        return self.h() + self.g()  # -> A *\n",
    "\n",
    "    # Comparing Pixels\n",
    "\n",
    "    def __lt__(self, other):\n",
    "        return self.f() < other.f()\n",
    "\n",
    "    def __le__(self, other):\n",
    "        return self.f() <= other.f()\n",
    "\n",
    "    def __gt__(self, other):\n",
    "        return self.f() > other.f()\n",
    "\n",
    "    def __ge__(self, other):\n",
    "        return self.f() >= other.f()\n",
    "\n",
    "    def __eq__(self, other):\n",
    "        return self.f() == other.f()\n",
    "\n",
    "    def __ne__(self, other):\n",
    "        return self.f() != other.f()\n",
    "\n",
    "    # Printing Pixels\n",
    "\n",
    "    def __repr__(self):\n",
    "        return f\"(x={self.x},y={self.y},color={self.color}, g()={self.cost}, h()={self.h()}, f()={self.f()})\"\n",
    "\n",
    "    def __str__(self):\n",
    "        return f\"(x={self.x},y={self.y},color={self.color}, g()={self.cost}, h()={self.h()}, f()={self.f()})\"\n",
    "\n",
    "    # Utility Methods\n",
    "\n",
    "    @staticmethod\n",
    "    def get_pixel_cost(color):\n",
    "        if color[0] == 0:\n",
    "            return 1\n",
    "        return 1 / (color[0])  # Reverse of the 'red' in RGB\n",
    "\n",
    "    @staticmethod\n",
    "    def euclidean_distance(x1, y1, x2, y2):\n",
    "        return math.sqrt((x1  - x2) ** 2 + (y1 - y2) ** 2)\n",
    "    \n",
    "    @staticmethod\n",
    "    def manhattan_distance(x1, y1, x2, y2):\n",
    "        return abs(x1 - x2) + abs(y1 - y2)"
   ]
  },
  {
   "cell_type": "code",
   "execution_count": 3,
   "metadata": {},
   "outputs": [],
   "source": [
    "############################################################################\n",
    "########################----PriorityQueue Class----#########################\n",
    "############################################################################\n",
    "class PriorityQueue:\n",
    "\n",
    "    def __init__(self, initial_elements: list, comparator, max_redundant_element_count=100):\n",
    "        self.comparator = comparator\n",
    "        self.max_redundant_element_count = max_redundant_element_count  # See delete method\n",
    "        self.heap = self.heapify(initial_elements)\n",
    "        self.length = len(self.heap)\n",
    "        self.max_queue_size_seen = -1\n",
    "        self.number_of_deletions = 0\n",
    "\n",
    "    def heapify(self, elements: list):\n",
    "        \"\"\"\n",
    "        Takes list of elements, returns Heap\n",
    "        Complexity: O(n)\n",
    "        \"\"\"\n",
    "\n",
    "        if not elements:  # If elements is empty\n",
    "            return []  # return empty list as heap\n",
    "\n",
    "        last_index = len(elements) - 1  # Get Last Element's index\n",
    "        parent_of_last_index = (last_index - 1) // 2  # Get Last Element's Parent's index\n",
    "        # After last parent the tree, there is no subtree to adjust\n",
    "        for i in range(parent_of_last_index, -1, -1):\n",
    "            # Starting from last parent, assuming the given 'i' as the root of the subtree, down_heap\n",
    "            self.down_heap(elements, len(elements), root_index=i)\n",
    "        return elements  # Return the heap\n",
    "\n",
    "    def insert(self, x):\n",
    "        \"\"\"\n",
    "         Complexity: O(logN)\n",
    "        \"\"\"\n",
    "        i = self.length  # index of the x\n",
    "        parent_i = (i - 1) // 2  # index of x's parent\n",
    "\n",
    "        self.heap.append(x)  # Insert x into its index\n",
    "        self.length += 1\n",
    "        if self.max_queue_size_seen < self.length:\n",
    "            self.max_queue_size_seen = self.length\n",
    "\n",
    "        while i > 0 and self.comparator(x, self.heap[parent_i]):\n",
    "            self.heap[i] = self.heap[parent_i]  # put the parent into x's place\n",
    "            i = parent_i  # Update x's index, hypothetically x is there\n",
    "            parent_i = (i - 1) // 2  # Calculate x's new parent's index\n",
    "        self.heap[i] = x  # Insert x into its real place\n",
    "\n",
    "    def delete(self):\n",
    "        \"\"\"\n",
    "        Complexity = O(logN)\n",
    "        \"\"\"\n",
    "\n",
    "        deleted_element = self.heap[0]  # Delete the root by taking and putting last el into its place\n",
    "        self.heap[0] = self.heap[self.length - 1]  # Put the last element into root of the tree\n",
    "        self.down_heap(self.heap, length=self.length)  # Adjust the tree so that it becomes heap again\n",
    "        self.length -= 1  # Exclude last element since it is no longer inside the heap\n",
    "        self.number_of_deletions += 1\n",
    "        # If list grows so much, deallocate the unnecessary space\n",
    "        actual_length = len(self.heap)\n",
    "        if (actual_length - self.length) > self.max_redundant_element_count:\n",
    "            self.heap = self.heap[:self.length]\n",
    "\n",
    "        return deleted_element\n",
    "\n",
    "    def is_empty(self):\n",
    "        return self.length == 0\n",
    "\n",
    "    def down_heap(self, heap: list, length, root_index=0):\n",
    "        i = root_index  # Start from given subtrees root\n",
    "        max_child = self.get_max_priority_child_index(heap, length, i)  # Get max priority child's index\n",
    "        while (max_child is not None) and self.comparator(heap[max_child], heap[i]):\n",
    "            # while child exists and child greater than parent, swap them\n",
    "            heap[i], heap[max_child] = heap[max_child], heap[i]  # Swap\n",
    "            i = max_child  # Update node's index\n",
    "            max_child = self.get_max_priority_child_index(heap, length, i)\n",
    "\n",
    "    def get_max_priority_child_index(self, heap, length, index):\n",
    "        last_index = length - 1\n",
    "        if last_index < (index * 2 + 1):  # No child\n",
    "            return None\n",
    "        elif last_index < (index * 2 + 2):  # Only Left Child exists\n",
    "            return index * 2 + 1\n",
    "        else:  # Both children exists\n",
    "            if self.comparator(heap[index * 2 + 1], heap[index * 2 + 2]):\n",
    "                return index * 2 + 1  # Return Left Child as Max Priority child\n",
    "            else:\n",
    "                return index * 2 + 2  # Return Right Child as Max Priority child\n",
    "\n",
    "    def __repr__(self):\n",
    "        result = \"[\\n\"\n",
    "        for i in range(0, self.length):\n",
    "            result += str(i) + \":\" + str(self.heap[i]) + \"\\n\"\n",
    "        result += \"]\"\n",
    "        return result\n",
    "\n",
    "    def __str__(self):\n",
    "        result = \"[\\n\"\n",
    "        for i in range(0, self.length):\n",
    "            result += str(i) + \":\" + str(self.heap[i]) + \"\\n\"\n",
    "        result += \"]\"\n",
    "        return result"
   ]
  },
  {
   "cell_type": "code",
   "execution_count": 4,
   "metadata": {},
   "outputs": [],
   "source": [
    "############################################################################\n",
    "########################----Queue Class----#################################\n",
    "############################################################################\n",
    "class Queue:\n",
    "\n",
    "    def __init__(self, capacity=100):\n",
    "        self.internal_list = [None] * capacity\n",
    "        self.capacity = capacity\n",
    "        self.front = 0\n",
    "        self.rear = capacity - 1\n",
    "        self.size = 0\n",
    "        self.max_queue_size_seen = -1\n",
    "        self.number_of_deletions = 0\n",
    "\n",
    "    def insert(self, x):\n",
    "        if self.is_full():\n",
    "            print(\"Queue is Full!\")\n",
    "            return\n",
    "\n",
    "        self.rear = (self.rear + 1) % self.capacity\n",
    "        self.internal_list[self.rear] = x\n",
    "        self.size += 1\n",
    "\n",
    "        if self.size > self.max_queue_size_seen:\n",
    "            self.max_queue_size_seen = self.size\n",
    "\n",
    "    def delete(self):\n",
    "        if self.is_empty():\n",
    "            print(\"Queue is Empty!\")\n",
    "            return None\n",
    "\n",
    "        deleted_item = self.internal_list[self.front]\n",
    "        self.front = (self.front + 1) % self.capacity\n",
    "        self.size -= 1\n",
    "        self.number_of_deletions += 1\n",
    "        return deleted_item\n",
    "\n",
    "    def is_empty(self):\n",
    "        return self.size == 0\n",
    "\n",
    "    def is_full(self):\n",
    "        return self.capacity == self.size\n",
    "\n",
    "    def sort(self):\n",
    "        \"\"\" Using Insertion Sort \"\"\"\n",
    "        for i in range(self.front + 1, self.rear + 1):\n",
    "            temp = self.internal_list[i]\n",
    "            j = i - 1\n",
    "\n",
    "            while j >= self.front and self.internal_list[j] > temp:\n",
    "                self.internal_list[j + 1] = self.internal_list[j]\n",
    "                j -= 1\n",
    "            self.internal_list[j + 1] = temp\n",
    "\n",
    "    def __repr__(self):\n",
    "        result = \"[\\n\"\n",
    "        for i in range(self.front, self.rear + 1):\n",
    "            result += str(i) + \":\" + str(self.internal_list[i]) + \"\\n\"\n",
    "        result += \"]\"\n",
    "        return result\n",
    "\n",
    "    def __str__(self):\n",
    "        result = \"[\\n\"\n",
    "        for i in range(self.front, self.rear + 1):\n",
    "            result += str(i) + \":\" + str(self.internal_list[i]) + \"\\n\"\n",
    "        result += \"]\"\n",
    "        return result"
   ]
  },
  {
   "cell_type": "code",
   "execution_count": 5,
   "metadata": {},
   "outputs": [],
   "source": [
    "############################################################################\n",
    "######################---- Image Path Finder Class ----#####################\n",
    "############################################################################\n",
    "class ImagePathFinder:\n",
    "\n",
    "    def __init__(self, image:Image, start, target ):\n",
    "        \"\"\" @param image should never be None\"\"\"\n",
    "        self.image = image\n",
    "        self.width, self.height = image.size\n",
    "        self.target = target\n",
    "        self.start = start\n",
    "\n",
    "    def save_image(self, image = None, location=f'C:/Users/Yukawa/AI/', name=\"rainbow_result\", extension=\".jpg\"):\n",
    "        if image is None:\n",
    "            image = self.image\n",
    "        image.save(location + name + extension)\n",
    "\n",
    "    def insert_pixel(self, queue, image_pixels, x, y, parent_cost):\n",
    "        if 0 <= x < self.width and 0 <= y < self.height:                                # If valid pixel\n",
    "            queue.insert(Pixel(x, y, color=image_pixels[x,y], parent_cost=parent_cost))  # insert the pixel\n",
    "\n",
    "    ### Path Finding Algorithms\n",
    "    def find_path(self, is_a_star = True, use_priority_queue = True, image_folder_to_save=f'C:/Users/Yukawa/AI/', image_name_to_save=\"default\"):\n",
    "        \"\"\"\n",
    "        Finds path between start and target and paints it as white\n",
    "        :param is_a_star:  if True then A* algorithm, otherwise Best First Search Algorithm\n",
    "        :param use_priority_queue: if True then use Heap based Priority Queue, otherwise use List based Queue\n",
    "        :param image_folder_to_save: The folder that we will be putting the images into\n",
    "        :param image_name_to_save: Name of the image file to be saved\n",
    "        :return: Max Queue Size ever expanded, Max Number of Deletions From the Queue\n",
    "        \"\"\"\n",
    "        if self.image is None:\n",
    "            return None\n",
    "\n",
    "        # Work on copy of the 'self.image'\n",
    "        image = self.image.copy()\n",
    "        pixels = image.load()\n",
    "        # Set the start Pixel\n",
    "        start = Pixel(x=self.start[0], y=self.start[1], color=pixels[self.start[0], self.start[1]], parent_cost=0)\n",
    "        # Configure Function Type\n",
    "        Pixel.is_a_star = is_a_star  # A*:True-> f=g()+h()   Best First Search:False -> f=h()\n",
    "        # Configure h() in Pixel\n",
    "        Pixel.target = (self.target[0], self.target[1])  # Target to which we calculate h()\n",
    "\n",
    "        # Setup Queue with first element\n",
    "        if use_priority_queue:\n",
    "            queue = PriorityQueue([start], lambda a, b: a < b)  # Min Priority Queue\n",
    "        else:\n",
    "            queue = Queue(capacity=50_000)\n",
    "            queue.insert(start)\n",
    "\n",
    "        # Loop infinitely unless queue becomes empty\n",
    "        while (queue.is_empty() == False) and True:\n",
    "            # Remove min f() element from queue\n",
    "            pixel = queue.delete()\n",
    "            x = pixel.x\n",
    "            y = pixel.y\n",
    "            # paint the point as a way of showing we've visited this pixel\n",
    "            pixels[x, y] = (255, 255, 255)\n",
    "            # If current pixel is the target, then the path has found\n",
    "            if x == self.target[0] and y == self.target[1]:\n",
    "                self.save_image(image=image, name=image_name_to_save)\n",
    "                return queue.max_queue_size_seen, queue.number_of_deletions\n",
    "            # Insert Neighbours\n",
    "            self.insert_pixel(queue, image_pixels=pixels, x=x+1, y=y, parent_cost=pixel.cost)\n",
    "            self.insert_pixel(queue, image_pixels=pixels, x=x, y=y+1, parent_cost=pixel.cost)\n",
    "            self.insert_pixel(queue, image_pixels=pixels, x=x-1, y=y, parent_cost=pixel.cost)\n",
    "            self.insert_pixel(queue, image_pixels=pixels, x=x, y=y-1, parent_cost=pixel.cost)\n",
    "\n",
    "            if not use_priority_queue:\n",
    "                # Sort the Queue so that first element becomes lowest cost, highest priority\n",
    "                queue.sort()\n",
    "\n",
    "    def run_4_algorithms(self, folder_to_save_images, image_name_suffix):\n",
    "        # Best First Search With Heap Priority Queue\n",
    "        start_dt = default_timer()\n",
    "        max_size1, n_deletions1 = self.find_path(is_a_star=False, use_priority_queue=True,\n",
    "                                    image_folder_to_save=folder_to_save_images, image_name_to_save=f\"bfs{image_name_suffix}\")\n",
    "        runtime1 = default_timer() - start_dt  # in seconds\n",
    "\n",
    "        # Best First Search With Queue(using List)\n",
    "        start_dt = default_timer()\n",
    "        max_size2, n_deletions2 = self.find_path(is_a_star=False, use_priority_queue=False,\n",
    "                                    image_folder_to_save=folder_to_save_images, image_name_to_save=f\"bfs{image_name_suffix}_2\")\n",
    "        runtime2 = default_timer() - start_dt  # in seconds\n",
    "\n",
    "        # A* with Heap Priority Queue\n",
    "        start_dt = default_timer()\n",
    "        max_size3, n_deletions3 = self.find_path(is_a_star=True, use_priority_queue=True,\n",
    "                                    image_folder_to_save=folder_to_save_images, image_name_to_save=f\"a_star{image_name_suffix}\")\n",
    "        runtime3 = default_timer() - start_dt  # in seconds\n",
    "\n",
    "        # A* with Queue(using List)\n",
    "        start_dt = default_timer()\n",
    "        max_size4, n_deletions4 = self.find_path(is_a_star=True, use_priority_queue=False,\n",
    "                                    image_folder_to_save=folder_to_save_images, image_name_to_save=f\"a_star{image_name_suffix}_2\")\n",
    "        runtime4 = default_timer() - start_dt  # in seconds\n",
    "\n",
    "        return { \"runtime\":(runtime1, runtime2, runtime3, runtime4),\n",
    "                 \"max_size\":(max_size1, max_size2, max_size3, max_size4),\n",
    "                 \"n_deletions\":(n_deletions1, n_deletions2, n_deletions3, n_deletions4) }\n",
    "\n",
    "    @staticmethod\n",
    "    def print_run4algorithm_results(data, start, target):\n",
    "        runtime = data['runtime']\n",
    "        max_size = data['max_size']\n",
    "        n_deletions = data['n_deletions']\n",
    "\n",
    "        print(f\"Start({start[0]},{start[1]}) Target({target[0]},{target[1]})\\n\"\n",
    "              f\"Max Size Seen: BFS:{max_size[0]}, BFS_2:{max_size[1]}, A*:{max_size[2]}, A*_2:{max_size[3]}\\n\"\n",
    "              f\"Number of Deletions: BFS:{n_deletions[0]}, BFS_2:{n_deletions[1]}, A*:{n_deletions[2]}, A*_2:{n_deletions[3]}\\n\"\n",
    "              f\"Runtime(in seconds):\\n\\tBFS:{runtime[0]:.2f}, BFS_2={runtime[1]:.2f}, A*={runtime[2]:.2f}, A*_2={runtime[3]:.2f}\")\n",
    "\n",
    "    @staticmethod\n",
    "    def analise(image, folder_to_save_images, n=10):\n",
    "        \"\"\"\n",
    "        !! Image must have size greater than 1000x1000\n",
    "        For random 'n' number of random points, run the 4 algorithms\n",
    "        @:returns list of data dictionary\n",
    "        \"\"\"\n",
    "\n",
    "        print(f\"\\nAnalysis For {n} Random Points\\n\")\n",
    "        width, height = image.size\n",
    "\n",
    "        # For 10 Image\n",
    "        data_list = list()\n",
    "\n",
    "        for i in range(n):\n",
    "            start = (random.randint(0, width//6), random.randint(0, height//6))\n",
    "            target = (random.randint(1_000, width), random.randint(1_000, height))\n",
    "            data = ImagePathFinder(image, start=start, target=target).run_4_algorithms(\n",
    "                folder_to_save_images=folder_to_save_images, image_name_suffix=i)\n",
    "            print(\"\\n\")\n",
    "            ImagePathFinder.print_run4algorithm_results(data,start,target)\n",
    "            data_list.append( (start, target, data) )\n",
    "        return data_list\n"
   ]
  },
  {
   "cell_type": "markdown",
   "metadata": {},
   "source": [
    "## Main Function"
   ]
  },
  {
   "cell_type": "code",
   "execution_count": 6,
   "metadata": {},
   "outputs": [
    {
     "name": "stdout",
     "output_type": "stream",
     "text": [
      "Image Path: C:/Users/Yukawa/AI/rainbow.jpg\n",
      "Folder To Save Images: C:/Users/Yukawa/AI/result/\n",
      "Image Width: 1920, Image Height: 1200\n",
      "Start(x,y for example-> 3,4):5,7\n",
      "Target(x,y for example-> 9,7):1453,1073\n"
     ]
    }
   ],
   "source": [
    "##### Take Image\n",
    "valid_image_taken = False\n",
    "while not valid_image_taken:\n",
    "    try:\n",
    "        input_image_path = input(\"Image Path: \")\n",
    "        valid_image_taken = True\n",
    "    except FileNotFoundError:\n",
    "        print(\"Image Not Found! ::: Please Give Valid Image Path.\")\n",
    "\n",
    "image = Image.open(input_image_path, 'r')\n",
    "width, height = image.size\n",
    "\n",
    "#### Take Location to save Images\n",
    "valid_path_taken = False\n",
    "folder_to_save_images = \"\"\n",
    "while not valid_path_taken:\n",
    "    folder_to_save_images = input(\"Folder To Save Images: \")\n",
    "    if os.path.isdir(folder_to_save_images):\n",
    "        valid_path_taken = True\n",
    "    else:\n",
    "        print(\"Folder not found! :: Please Give Valid Folder To Save Images.\")\n",
    "\n",
    "\n",
    "##### Take Start Coordinate\n",
    "print(f\"Image Width: {width}, Image Height: {height}\")\n",
    "valid_coordinates_taken = False\n",
    "start_x, start_y = -1,-1\n",
    "while not valid_coordinates_taken:\n",
    "    start_x, start_y = map(int, input(\"Start(x,y for example-> 3,4):\").split(','))\n",
    "    if 0 <= start_x < width and 0 <= start_y < height:\n",
    "        valid_coordinates_taken = True\n",
    "    else:\n",
    "        print(f\"Invalid Coordinates: (x={start_x},y={start_y}) is out of image size({width},{height})\")\n",
    "\n",
    "##### Take Target Coordinate\n",
    "valid_coordinates_taken = False\n",
    "target_x, target_y = -1,-1\n",
    "while not valid_coordinates_taken:\n",
    "    target_x, target_y = map(int, input(\"Target(x,y for example-> 9,7):\").split(','))\n",
    "    if 0 <= target_x < width and 0 <= target_y < height:\n",
    "        valid_coordinates_taken = True\n",
    "    else:\n",
    "        print(f\"Invalid Coordinates: (x={target_x},y={target_y}) is out of image size({width},{height})\")"
   ]
  },
  {
   "cell_type": "markdown",
   "metadata": {},
   "source": [
    "### Run For User Input"
   ]
  },
  {
   "cell_type": "code",
   "execution_count": 7,
   "metadata": {},
   "outputs": [
    {
     "name": "stdout",
     "output_type": "stream",
     "text": [
      "\n",
      "Initial Configurations: Start:(5,7) ::: Target:(1453,1073)\n",
      "Start(5,7) Target(1453,1073)\n",
      "Max Size Seen: BFS:7543, BFS_2:7543, A*:7543, A*_2:7543\n",
      "Number of Deletions: BFS:2515, BFS_2:2515, A*:2515, A*_2:2515\n",
      "Runtime(in seconds):\n",
      "\tBFS:0.46, BFS_2=119.48, A*=0.50, A*_2=126.57\n"
     ]
    }
   ],
   "source": [
    "#### Create Image Path Finder\n",
    "image_path_finder = ImagePathFinder(image.copy(),\n",
    "                                    start = (start_x, start_y),\n",
    "                                    target= (target_x,target_y))\n",
    "\n",
    "print(f\"\\nInitial Configurations: Start:({start_x},{start_y}) ::: Target:({target_x},{target_y})\")\n",
    "\n",
    "data = image_path_finder.run_4_algorithms(folder_to_save_images=folder_to_save_images, image_name_suffix=\"_m_\")\n",
    "ImagePathFinder.print_run4algorithm_results(data,(start_x,start_y),(target_x,target_y))"
   ]
  },
  {
   "cell_type": "markdown",
   "metadata": {},
   "source": [
    "### Run 10 Times to Analize "
   ]
  },
  {
   "cell_type": "code",
   "execution_count": 8,
   "metadata": {},
   "outputs": [
    {
     "name": "stdout",
     "output_type": "stream",
     "text": [
      "\n",
      "Analysis For 10 Random Points\n",
      "\n",
      "\n",
      "\n",
      "Start(92,195) Target(1834,1135)\n",
      "Max Size Seen: BFS:8047, BFS_2:8047, A*:8047, A*_2:8047\n",
      "Number of Deletions: BFS:2683, BFS_2:2683, A*:2683, A*_2:2683\n",
      "Runtime(in seconds):\n",
      "\tBFS:0.50, BFS_2=134.18, A*=0.53, A*_2=144.86\n",
      "\n",
      "\n",
      "Start(291,113) Target(1500,1073)\n",
      "Max Size Seen: BFS:6508, BFS_2:6508, A*:6508, A*_2:6508\n",
      "Number of Deletions: BFS:2170, BFS_2:2170, A*:2170, A*_2:2170\n",
      "Runtime(in seconds):\n",
      "\tBFS:0.40, BFS_2=89.65, A*=0.43, A*_2=93.66\n",
      "\n",
      "\n",
      "Start(121,151) Target(1723,1169)\n",
      "Max Size Seen: BFS:7861, BFS_2:7861, A*:7861, A*_2:7861\n",
      "Number of Deletions: BFS:2621, BFS_2:2621, A*:2621, A*_2:2621\n",
      "Runtime(in seconds):\n",
      "\tBFS:0.47, BFS_2=141.11, A*=0.57, A*_2=137.36\n",
      "\n",
      "\n",
      "Start(34,169) Target(1403,1100)\n",
      "Max Size Seen: BFS:6901, BFS_2:6901, A*:6901, A*_2:6901\n",
      "Number of Deletions: BFS:2301, BFS_2:2301, A*:2301, A*_2:2301\n",
      "Runtime(in seconds):\n",
      "\tBFS:0.42, BFS_2=102.89, A*=0.46, A*_2=111.68\n",
      "\n",
      "\n",
      "Start(88,2) Target(1499,1179)\n",
      "Max Size Seen: BFS:7765, BFS_2:7765, A*:7765, A*_2:7765\n",
      "Number of Deletions: BFS:2589, BFS_2:2589, A*:2589, A*_2:2589\n",
      "Runtime(in seconds):\n",
      "\tBFS:0.47, BFS_2=130.18, A*=0.52, A*_2=136.83\n",
      "\n",
      "\n",
      "Start(296,60) Target(1786,1053)\n",
      "Max Size Seen: BFS:7450, BFS_2:7450, A*:7450, A*_2:7450\n",
      "Number of Deletions: BFS:2484, BFS_2:2484, A*:2484, A*_2:2484\n",
      "Runtime(in seconds):\n",
      "\tBFS:0.45, BFS_2=128.81, A*=0.97, A*_2=129.92\n",
      "\n",
      "\n",
      "Start(80,109) Target(1273,1019)\n",
      "Max Size Seen: BFS:6310, BFS_2:6310, A*:6310, A*_2:6310\n",
      "Number of Deletions: BFS:2104, BFS_2:2104, A*:2104, A*_2:2104\n",
      "Runtime(in seconds):\n",
      "\tBFS:0.39, BFS_2=85.56, A*=0.44, A*_2=95.09\n",
      "\n",
      "\n",
      "Start(38,5) Target(1494,1100)\n",
      "Max Size Seen: BFS:7654, BFS_2:7654, A*:7654, A*_2:7654\n",
      "Number of Deletions: BFS:2552, BFS_2:2552, A*:2552, A*_2:2552\n",
      "Runtime(in seconds):\n",
      "\tBFS:0.49, BFS_2=129.21, A*=0.51, A*_2=134.28\n",
      "\n",
      "\n",
      "Start(155,94) Target(1664,1033)\n",
      "Max Size Seen: BFS:7345, BFS_2:7345, A*:7345, A*_2:7345\n",
      "Number of Deletions: BFS:2449, BFS_2:2449, A*:2449, A*_2:2449\n",
      "Runtime(in seconds):\n",
      "\tBFS:0.45, BFS_2=114.44, A*=0.51, A*_2=131.38\n",
      "\n",
      "\n",
      "Start(278,75) Target(1505,1121)\n",
      "Max Size Seen: BFS:6820, BFS_2:6820, A*:6820, A*_2:6820\n",
      "Number of Deletions: BFS:2274, BFS_2:2274, A*:2274, A*_2:2274\n",
      "Runtime(in seconds):\n",
      "\tBFS:0.41, BFS_2=104.50, A*=0.47, A*_2=113.68\n"
     ]
    }
   ],
   "source": [
    "data_for_analysis = ImagePathFinder.analise(image,folder_to_save_images,10)"
   ]
  },
  {
   "cell_type": "code",
   "execution_count": null,
   "metadata": {},
   "outputs": [],
   "source": [
    "data_for_analysis"
   ]
  },
  {
   "cell_type": "markdown",
   "metadata": {},
   "source": [
    "## Analysis"
   ]
  },
  {
   "cell_type": "code",
   "execution_count": 10,
   "metadata": {},
   "outputs": [],
   "source": [
    "import pandas as pd\n",
    "import matplotlib.pyplot as plt"
   ]
  },
  {
   "cell_type": "markdown",
   "metadata": {},
   "source": [
    "### Distance vs Runtime"
   ]
  },
  {
   "cell_type": "code",
   "execution_count": 11,
   "metadata": {},
   "outputs": [],
   "source": [
    "result_list = list()\n",
    "for i in range(10):\n",
    "    # calculate distance\n",
    "    start = data_for_analysis[i][0]\n",
    "    target = data_for_analysis[i][1]\n",
    "    distance = Pixel.manhattan_distance(start[0],start[1],target[0],target[1])\n",
    "    # get runtime of each run of the algorithm\n",
    "    runtime = data_for_analysis[i][2]['runtime']\n",
    "    # insert into result\n",
    "    result_list.append( (distance,runtime[0], runtime[1], runtime[2], runtime[3]) )\n",
    "    \n",
    "df = pd.DataFrame(result_list)\n",
    "df.index.name = 'Run'\n",
    "df.columns = ['distance', 'BFS', 'BFS_2', 'A*', 'A*_2']\n",
    "df.sort_values('distance', inplace=True, ascending=True)"
   ]
  },
  {
   "cell_type": "code",
   "execution_count": 12,
   "metadata": {},
   "outputs": [
    {
     "data": {
      "text/html": [
       "<div>\n",
       "<style scoped>\n",
       "    .dataframe tbody tr th:only-of-type {\n",
       "        vertical-align: middle;\n",
       "    }\n",
       "\n",
       "    .dataframe tbody tr th {\n",
       "        vertical-align: top;\n",
       "    }\n",
       "\n",
       "    .dataframe thead th {\n",
       "        text-align: right;\n",
       "    }\n",
       "</style>\n",
       "<table border=\"1\" class=\"dataframe\">\n",
       "  <thead>\n",
       "    <tr style=\"text-align: right;\">\n",
       "      <th></th>\n",
       "      <th>distance</th>\n",
       "      <th>BFS</th>\n",
       "      <th>BFS_2</th>\n",
       "      <th>A*</th>\n",
       "      <th>A*_2</th>\n",
       "    </tr>\n",
       "    <tr>\n",
       "      <th>Run</th>\n",
       "      <th></th>\n",
       "      <th></th>\n",
       "      <th></th>\n",
       "      <th></th>\n",
       "      <th></th>\n",
       "    </tr>\n",
       "  </thead>\n",
       "  <tbody>\n",
       "    <tr>\n",
       "      <th>6</th>\n",
       "      <td>2103</td>\n",
       "      <td>0.390341</td>\n",
       "      <td>85.563040</td>\n",
       "      <td>0.442535</td>\n",
       "      <td>95.090088</td>\n",
       "    </tr>\n",
       "    <tr>\n",
       "      <th>1</th>\n",
       "      <td>2169</td>\n",
       "      <td>0.402592</td>\n",
       "      <td>89.648954</td>\n",
       "      <td>0.428586</td>\n",
       "      <td>93.655112</td>\n",
       "    </tr>\n",
       "    <tr>\n",
       "      <th>9</th>\n",
       "      <td>2273</td>\n",
       "      <td>0.412828</td>\n",
       "      <td>104.497695</td>\n",
       "      <td>0.469797</td>\n",
       "      <td>113.679707</td>\n",
       "    </tr>\n",
       "    <tr>\n",
       "      <th>3</th>\n",
       "      <td>2300</td>\n",
       "      <td>0.419979</td>\n",
       "      <td>102.890087</td>\n",
       "      <td>0.455395</td>\n",
       "      <td>111.684314</td>\n",
       "    </tr>\n",
       "    <tr>\n",
       "      <th>8</th>\n",
       "      <td>2448</td>\n",
       "      <td>0.445797</td>\n",
       "      <td>114.444248</td>\n",
       "      <td>0.509135</td>\n",
       "      <td>131.381394</td>\n",
       "    </tr>\n",
       "    <tr>\n",
       "      <th>5</th>\n",
       "      <td>2483</td>\n",
       "      <td>0.451697</td>\n",
       "      <td>128.808547</td>\n",
       "      <td>0.966590</td>\n",
       "      <td>129.923975</td>\n",
       "    </tr>\n",
       "    <tr>\n",
       "      <th>7</th>\n",
       "      <td>2551</td>\n",
       "      <td>0.490201</td>\n",
       "      <td>129.209947</td>\n",
       "      <td>0.505918</td>\n",
       "      <td>134.279679</td>\n",
       "    </tr>\n",
       "    <tr>\n",
       "      <th>4</th>\n",
       "      <td>2588</td>\n",
       "      <td>0.470068</td>\n",
       "      <td>130.181259</td>\n",
       "      <td>0.518241</td>\n",
       "      <td>136.827670</td>\n",
       "    </tr>\n",
       "    <tr>\n",
       "      <th>2</th>\n",
       "      <td>2620</td>\n",
       "      <td>0.472039</td>\n",
       "      <td>141.109387</td>\n",
       "      <td>0.569656</td>\n",
       "      <td>137.362925</td>\n",
       "    </tr>\n",
       "    <tr>\n",
       "      <th>0</th>\n",
       "      <td>2682</td>\n",
       "      <td>0.502930</td>\n",
       "      <td>134.182297</td>\n",
       "      <td>0.525838</td>\n",
       "      <td>144.864404</td>\n",
       "    </tr>\n",
       "  </tbody>\n",
       "</table>\n",
       "</div>"
      ],
      "text/plain": [
       "     distance       BFS       BFS_2        A*        A*_2\n",
       "Run                                                      \n",
       "6        2103  0.390341   85.563040  0.442535   95.090088\n",
       "1        2169  0.402592   89.648954  0.428586   93.655112\n",
       "9        2273  0.412828  104.497695  0.469797  113.679707\n",
       "3        2300  0.419979  102.890087  0.455395  111.684314\n",
       "8        2448  0.445797  114.444248  0.509135  131.381394\n",
       "5        2483  0.451697  128.808547  0.966590  129.923975\n",
       "7        2551  0.490201  129.209947  0.505918  134.279679\n",
       "4        2588  0.470068  130.181259  0.518241  136.827670\n",
       "2        2620  0.472039  141.109387  0.569656  137.362925\n",
       "0        2682  0.502930  134.182297  0.525838  144.864404"
      ]
     },
     "execution_count": 12,
     "metadata": {},
     "output_type": "execute_result"
    }
   ],
   "source": [
    "df"
   ]
  },
  {
   "cell_type": "code",
   "execution_count": 13,
   "metadata": {
    "scrolled": true
   },
   "outputs": [
    {
     "data": {
      "image/png": "[encoded data removed]",
      "text/plain": [
       "<Figure size 432x288 with 1 Axes>"
      ]
     },
     "metadata": {
      "needs_background": "light"
     },
     "output_type": "display_data"
    }
   ],
   "source": [
    "ax = df.plot(x='distance', kind='bar', legend=True, fontsize=12)\n",
    "ax.set_xlabel(\"Distance Between Start and Target\", labelpad=20, fontsize=13)\n",
    "ax.set_ylabel(\"Runtime(Sec)\", labelpad=20, fontsize=13)\n",
    "ax.set_title(\"Distance Vs Runtime\", pad=20,fontsize=15)\n",
    "plt.show()"
   ]
  },
  {
   "cell_type": "markdown",
   "metadata": {},
   "source": [
    "<font color=darkblue>**PLOT#1**:Distance Vs Runtime </font><br/>\n",
    "<font color=green>**INSIGHT#1**: As distance between start and target increase,the runtime of the algorithms that have been implemented using array based queue(BFS_2, A<span>*</span>_2) outweigh the runtime of the algorithms that have been implemented using heap based priority queue(BFS,A<span>*</span>) </font><br/>\n",
    "<font color=green>**INSIGHT#1.1**: The runtime of the algorithms that have been implemented using array based queue(BFS_2, A<span>*</span>_2) is so inefficient in compared to the the algorithms that have been implemented using heap based priority queue(BFS,A<span>*</span>) </font>"
   ]
  },
  {
   "cell_type": "code",
   "execution_count": 14,
   "metadata": {},
   "outputs": [
    {
     "data": {
      "image/png": "[encoded data removed]",
      "text/plain": [
       "<Figure size 432x288 with 1 Axes>"
      ]
     },
     "metadata": {
      "needs_background": "light"
     },
     "output_type": "display_data"
    }
   ],
   "source": [
    "ax = df[['distance','BFS','A*']].plot(x='distance', kind='bar', legend=True, fontsize=12)\n",
    "ax.set_xlabel(\"Distance Between Start and Target\", labelpad=20, fontsize=13)\n",
    "ax.set_ylabel(\"Runtime(Sec)\", labelpad=20, fontsize=13)\n",
    "ax.set_title(\"Distance Vs Runtime\\nUsing Heap Based Priority Queue\", pad=20,fontsize=15)\n",
    "plt.show()"
   ]
  },
  {
   "cell_type": "markdown",
   "metadata": {},
   "source": [
    "<font color=darkblue>**PLOT#2**:Distance Vs Runtime Using Heap Based Priority Queue </font><br/>\n",
    "<font color=green>**INSIGHT#2**: When heap based priority queue used, as distance between start and target increase, the runtime does not change radically but rather just small changes</font>"
   ]
  },
  {
   "cell_type": "code",
   "execution_count": 15,
   "metadata": {},
   "outputs": [
    {
     "data": {
      "image/png": "[encoded data removed]",
      "text/plain": [
       "<Figure size 432x288 with 1 Axes>"
      ]
     },
     "metadata": {
      "needs_background": "light"
     },
     "output_type": "display_data"
    }
   ],
   "source": [
    "ax = df[['distance','BFS_2','A*_2']].plot(x='distance', kind='bar', legend=True, fontsize=12)\n",
    "ax.set_xlabel(\"Distance Between Start and Target\", labelpad=20, fontsize=13)\n",
    "ax.set_ylabel(\"Runtime(Sec)\", labelpad=20, fontsize=13)\n",
    "ax.set_title(\"Distance Vs Runtime\\nUsing Array Based Queue\", pad=20,fontsize=15)\n",
    "plt.show()"
   ]
  },
  {
   "cell_type": "markdown",
   "metadata": {},
   "source": [
    "<font color=darkblue>**PLOT#3**:Distance Vs Runtime Using Array Based Queue </font><br/>\n",
    "<font color=green>**INSIGHT#3**: Array based queue takes so much time when the distance is high.</font><br/>\n",
    "<font color=green>**INSIGHT#3.1**: When array based queue used, algorithm chosen does not differentiate the runtime much</font>"
   ]
  },
  {
   "cell_type": "markdown",
   "metadata": {},
   "source": [
    "### Max Queue Size Vs Runtime"
   ]
  },
  {
   "cell_type": "code",
   "execution_count": 16,
   "metadata": {},
   "outputs": [],
   "source": [
    "result_list = list()\n",
    "for i in range(10):\n",
    "    # get max size of queue\n",
    "    max_size = data_for_analysis[i][2]['max_size'][0]\n",
    "    # get runtime of each run of the algorithm\n",
    "    runtime = data_for_analysis[i][2]['runtime']\n",
    "    # insert into result\n",
    "    result_list.append( (max_size, runtime[0], runtime[1], runtime[2], runtime[3]) )\n",
    "    \n",
    "df = pd.DataFrame(result_list)\n",
    "df.index.name = 'Run'\n",
    "df.columns = ['max_size', 'BFS', 'BFS_2', 'A*', 'A*_2']\n",
    "df.sort_values('max_size', inplace=True, ascending=True)"
   ]
  },
  {
   "cell_type": "code",
   "execution_count": 17,
   "metadata": {},
   "outputs": [
    {
     "data": {
      "text/html": [
       "<div>\n",
       "<style scoped>\n",
       "    .dataframe tbody tr th:only-of-type {\n",
       "        vertical-align: middle;\n",
       "    }\n",
       "\n",
       "    .dataframe tbody tr th {\n",
       "        vertical-align: top;\n",
       "    }\n",
       "\n",
       "    .dataframe thead th {\n",
       "        text-align: right;\n",
       "    }\n",
       "</style>\n",
       "<table border=\"1\" class=\"dataframe\">\n",
       "  <thead>\n",
       "    <tr style=\"text-align: right;\">\n",
       "      <th></th>\n",
       "      <th>max_size</th>\n",
       "      <th>BFS</th>\n",
       "      <th>BFS_2</th>\n",
       "      <th>A*</th>\n",
       "      <th>A*_2</th>\n",
       "    </tr>\n",
       "    <tr>\n",
       "      <th>Run</th>\n",
       "      <th></th>\n",
       "      <th></th>\n",
       "      <th></th>\n",
       "      <th></th>\n",
       "      <th></th>\n",
       "    </tr>\n",
       "  </thead>\n",
       "  <tbody>\n",
       "    <tr>\n",
       "      <th>6</th>\n",
       "      <td>6310</td>\n",
       "      <td>0.390341</td>\n",
       "      <td>85.563040</td>\n",
       "      <td>0.442535</td>\n",
       "      <td>95.090088</td>\n",
       "    </tr>\n",
       "    <tr>\n",
       "      <th>1</th>\n",
       "      <td>6508</td>\n",
       "      <td>0.402592</td>\n",
       "      <td>89.648954</td>\n",
       "      <td>0.428586</td>\n",
       "      <td>93.655112</td>\n",
       "    </tr>\n",
       "    <tr>\n",
       "      <th>9</th>\n",
       "      <td>6820</td>\n",
       "      <td>0.412828</td>\n",
       "      <td>104.497695</td>\n",
       "      <td>0.469797</td>\n",
       "      <td>113.679707</td>\n",
       "    </tr>\n",
       "    <tr>\n",
       "      <th>3</th>\n",
       "      <td>6901</td>\n",
       "      <td>0.419979</td>\n",
       "      <td>102.890087</td>\n",
       "      <td>0.455395</td>\n",
       "      <td>111.684314</td>\n",
       "    </tr>\n",
       "    <tr>\n",
       "      <th>8</th>\n",
       "      <td>7345</td>\n",
       "      <td>0.445797</td>\n",
       "      <td>114.444248</td>\n",
       "      <td>0.509135</td>\n",
       "      <td>131.381394</td>\n",
       "    </tr>\n",
       "    <tr>\n",
       "      <th>5</th>\n",
       "      <td>7450</td>\n",
       "      <td>0.451697</td>\n",
       "      <td>128.808547</td>\n",
       "      <td>0.966590</td>\n",
       "      <td>129.923975</td>\n",
       "    </tr>\n",
       "    <tr>\n",
       "      <th>7</th>\n",
       "      <td>7654</td>\n",
       "      <td>0.490201</td>\n",
       "      <td>129.209947</td>\n",
       "      <td>0.505918</td>\n",
       "      <td>134.279679</td>\n",
       "    </tr>\n",
       "    <tr>\n",
       "      <th>4</th>\n",
       "      <td>7765</td>\n",
       "      <td>0.470068</td>\n",
       "      <td>130.181259</td>\n",
       "      <td>0.518241</td>\n",
       "      <td>136.827670</td>\n",
       "    </tr>\n",
       "    <tr>\n",
       "      <th>2</th>\n",
       "      <td>7861</td>\n",
       "      <td>0.472039</td>\n",
       "      <td>141.109387</td>\n",
       "      <td>0.569656</td>\n",
       "      <td>137.362925</td>\n",
       "    </tr>\n",
       "    <tr>\n",
       "      <th>0</th>\n",
       "      <td>8047</td>\n",
       "      <td>0.502930</td>\n",
       "      <td>134.182297</td>\n",
       "      <td>0.525838</td>\n",
       "      <td>144.864404</td>\n",
       "    </tr>\n",
       "  </tbody>\n",
       "</table>\n",
       "</div>"
      ],
      "text/plain": [
       "     max_size       BFS       BFS_2        A*        A*_2\n",
       "Run                                                      \n",
       "6        6310  0.390341   85.563040  0.442535   95.090088\n",
       "1        6508  0.402592   89.648954  0.428586   93.655112\n",
       "9        6820  0.412828  104.497695  0.469797  113.679707\n",
       "3        6901  0.419979  102.890087  0.455395  111.684314\n",
       "8        7345  0.445797  114.444248  0.509135  131.381394\n",
       "5        7450  0.451697  128.808547  0.966590  129.923975\n",
       "7        7654  0.490201  129.209947  0.505918  134.279679\n",
       "4        7765  0.470068  130.181259  0.518241  136.827670\n",
       "2        7861  0.472039  141.109387  0.569656  137.362925\n",
       "0        8047  0.502930  134.182297  0.525838  144.864404"
      ]
     },
     "execution_count": 17,
     "metadata": {},
     "output_type": "execute_result"
    }
   ],
   "source": [
    "df"
   ]
  },
  {
   "cell_type": "code",
   "execution_count": 18,
   "metadata": {},
   "outputs": [
    {
     "data": {
      "image/png": "[encoded data removed]",
      "text/plain": [
       "<Figure size 432x288 with 1 Axes>"
      ]
     },
     "metadata": {
      "needs_background": "light"
     },
     "output_type": "display_data"
    }
   ],
   "source": [
    "ax = df.plot(x='max_size', kind='bar', legend=True, fontsize=12)\n",
    "ax.set_xlabel(\"Max Queue Size\", labelpad=20, fontsize=13)\n",
    "ax.set_ylabel(\"Runtime(Sec)\", labelpad=20, fontsize=13)\n",
    "ax.set_title(\"Max Queue Size Vs Runtime\", pad=20,fontsize=15)\n",
    "plt.show()"
   ]
  },
  {
   "cell_type": "markdown",
   "metadata": {},
   "source": [
    "<font color=darkblue>**PLOT#4**:Max Queue Size Vs Runtime</font><br/>\n",
    "<font color=green>**INSIGHT#4**: As maximum queue size increase, runtime of the algorithms that have been implemented using array based queue becomes so inefficient in compared to the ones that have been implemented using heap based priority queue</font>"
   ]
  },
  {
   "cell_type": "code",
   "execution_count": 19,
   "metadata": {},
   "outputs": [
    {
     "data": {
      "image/png": "[encoded data removed]",
      "text/plain": [
       "<Figure size 432x288 with 1 Axes>"
      ]
     },
     "metadata": {
      "needs_background": "light"
     },
     "output_type": "display_data"
    }
   ],
   "source": [
    "ax = df[['max_size','BFS','A*']].plot(x='max_size', kind='bar', legend=True, fontsize=12)\n",
    "ax.set_xlabel(\"Max Queue Size\", labelpad=20, fontsize=13)\n",
    "ax.set_ylabel(\"Runtime(Sec)\", labelpad=20, fontsize=13)\n",
    "ax.set_title(\"Max Queue Size Vs Runtime\\nUsing Heap Based Priority Queue\", pad=20,fontsize=15)\n",
    "plt.show()"
   ]
  },
  {
   "cell_type": "markdown",
   "metadata": {},
   "source": [
    "<font color=darkblue>**PLOT#5**:Max Queue Size Vs Runtime(sec) Using Heap Based Priority Queue </font><br/>"
   ]
  },
  {
   "cell_type": "code",
   "execution_count": 20,
   "metadata": {},
   "outputs": [
    {
     "data": {
      "image/png": "[encoded data removed]",
      "text/plain": [
       "<Figure size 432x288 with 1 Axes>"
      ]
     },
     "metadata": {
      "needs_background": "light"
     },
     "output_type": "display_data"
    }
   ],
   "source": [
    "ax = df[['max_size','BFS_2','A*_2']].plot(x='max_size', kind='bar', legend=True, fontsize=12)\n",
    "ax.set_xlabel(\"Max Queue Size\", labelpad=20, fontsize=13)\n",
    "ax.set_ylabel(\"Runtime(Sec)\", labelpad=20, fontsize=13)\n",
    "ax.set_title(\"Max Queue Size Vs Runtime\\nUsing Array Based Queue\", pad=20,fontsize=15)\n",
    "plt.show()"
   ]
  },
  {
   "cell_type": "markdown",
   "metadata": {},
   "source": [
    "<font color=darkblue>**PLOT#6**:Max Queue Size Vs Runtime(sec) Using Array Based Queue </font><br/>"
   ]
  },
  {
   "cell_type": "markdown",
   "metadata": {},
   "source": [
    "### Number of Deletions Vs Runtime"
   ]
  },
  {
   "cell_type": "code",
   "execution_count": 21,
   "metadata": {},
   "outputs": [],
   "source": [
    "result_list = list()\n",
    "for i in range(10):\n",
    "    # get number of deletions\n",
    "    n_deletions = data_for_analysis[i][2]['n_deletions'][0]\n",
    "    # get runtime of each run of the algorithm\n",
    "    runtime = data_for_analysis[i][2]['runtime']\n",
    "    # insert into result\n",
    "    result_list.append( (n_deletions, runtime[0], runtime[1], runtime[2], runtime[3]) )\n",
    "    \n",
    "df = pd.DataFrame(result_list)\n",
    "df.index.name = 'Run'\n",
    "df.columns = ['n_deletions', 'BFS', 'BFS_2', 'A*', 'A*_2']\n",
    "df.sort_values('n_deletions', inplace=True, ascending=True)"
   ]
  },
  {
   "cell_type": "code",
   "execution_count": 22,
   "metadata": {
    "scrolled": true
   },
   "outputs": [
    {
     "data": {
      "text/html": [
       "<div>\n",
       "<style scoped>\n",
       "    .dataframe tbody tr th:only-of-type {\n",
       "        vertical-align: middle;\n",
       "    }\n",
       "\n",
       "    .dataframe tbody tr th {\n",
       "        vertical-align: top;\n",
       "    }\n",
       "\n",
       "    .dataframe thead th {\n",
       "        text-align: right;\n",
       "    }\n",
       "</style>\n",
       "<table border=\"1\" class=\"dataframe\">\n",
       "  <thead>\n",
       "    <tr style=\"text-align: right;\">\n",
       "      <th></th>\n",
       "      <th>n_deletions</th>\n",
       "      <th>BFS</th>\n",
       "      <th>BFS_2</th>\n",
       "      <th>A*</th>\n",
       "      <th>A*_2</th>\n",
       "    </tr>\n",
       "    <tr>\n",
       "      <th>Run</th>\n",
       "      <th></th>\n",
       "      <th></th>\n",
       "      <th></th>\n",
       "      <th></th>\n",
       "      <th></th>\n",
       "    </tr>\n",
       "  </thead>\n",
       "  <tbody>\n",
       "    <tr>\n",
       "      <th>6</th>\n",
       "      <td>2104</td>\n",
       "      <td>0.390341</td>\n",
       "      <td>85.563040</td>\n",
       "      <td>0.442535</td>\n",
       "      <td>95.090088</td>\n",
       "    </tr>\n",
       "    <tr>\n",
       "      <th>1</th>\n",
       "      <td>2170</td>\n",
       "      <td>0.402592</td>\n",
       "      <td>89.648954</td>\n",
       "      <td>0.428586</td>\n",
       "      <td>93.655112</td>\n",
       "    </tr>\n",
       "    <tr>\n",
       "      <th>9</th>\n",
       "      <td>2274</td>\n",
       "      <td>0.412828</td>\n",
       "      <td>104.497695</td>\n",
       "      <td>0.469797</td>\n",
       "      <td>113.679707</td>\n",
       "    </tr>\n",
       "    <tr>\n",
       "      <th>3</th>\n",
       "      <td>2301</td>\n",
       "      <td>0.419979</td>\n",
       "      <td>102.890087</td>\n",
       "      <td>0.455395</td>\n",
       "      <td>111.684314</td>\n",
       "    </tr>\n",
       "    <tr>\n",
       "      <th>8</th>\n",
       "      <td>2449</td>\n",
       "      <td>0.445797</td>\n",
       "      <td>114.444248</td>\n",
       "      <td>0.509135</td>\n",
       "      <td>131.381394</td>\n",
       "    </tr>\n",
       "    <tr>\n",
       "      <th>5</th>\n",
       "      <td>2484</td>\n",
       "      <td>0.451697</td>\n",
       "      <td>128.808547</td>\n",
       "      <td>0.966590</td>\n",
       "      <td>129.923975</td>\n",
       "    </tr>\n",
       "    <tr>\n",
       "      <th>7</th>\n",
       "      <td>2552</td>\n",
       "      <td>0.490201</td>\n",
       "      <td>129.209947</td>\n",
       "      <td>0.505918</td>\n",
       "      <td>134.279679</td>\n",
       "    </tr>\n",
       "    <tr>\n",
       "      <th>4</th>\n",
       "      <td>2589</td>\n",
       "      <td>0.470068</td>\n",
       "      <td>130.181259</td>\n",
       "      <td>0.518241</td>\n",
       "      <td>136.827670</td>\n",
       "    </tr>\n",
       "    <tr>\n",
       "      <th>2</th>\n",
       "      <td>2621</td>\n",
       "      <td>0.472039</td>\n",
       "      <td>141.109387</td>\n",
       "      <td>0.569656</td>\n",
       "      <td>137.362925</td>\n",
       "    </tr>\n",
       "    <tr>\n",
       "      <th>0</th>\n",
       "      <td>2683</td>\n",
       "      <td>0.502930</td>\n",
       "      <td>134.182297</td>\n",
       "      <td>0.525838</td>\n",
       "      <td>144.864404</td>\n",
       "    </tr>\n",
       "  </tbody>\n",
       "</table>\n",
       "</div>"
      ],
      "text/plain": [
       "     n_deletions       BFS       BFS_2        A*        A*_2\n",
       "Run                                                         \n",
       "6           2104  0.390341   85.563040  0.442535   95.090088\n",
       "1           2170  0.402592   89.648954  0.428586   93.655112\n",
       "9           2274  0.412828  104.497695  0.469797  113.679707\n",
       "3           2301  0.419979  102.890087  0.455395  111.684314\n",
       "8           2449  0.445797  114.444248  0.509135  131.381394\n",
       "5           2484  0.451697  128.808547  0.966590  129.923975\n",
       "7           2552  0.490201  129.209947  0.505918  134.279679\n",
       "4           2589  0.470068  130.181259  0.518241  136.827670\n",
       "2           2621  0.472039  141.109387  0.569656  137.362925\n",
       "0           2683  0.502930  134.182297  0.525838  144.864404"
      ]
     },
     "execution_count": 22,
     "metadata": {},
     "output_type": "execute_result"
    }
   ],
   "source": [
    "df"
   ]
  },
  {
   "cell_type": "code",
   "execution_count": 23,
   "metadata": {},
   "outputs": [
    {
     "data": {
      "image/png": "[encoded data removed]",
      "text/plain": [
       "<Figure size 432x288 with 1 Axes>"
      ]
     },
     "metadata": {
      "needs_background": "light"
     },
     "output_type": "display_data"
    }
   ],
   "source": [
    "ax = df.plot(x='n_deletions', kind='bar', legend=True, fontsize=12)\n",
    "ax.set_xlabel(\"Number of Deletions\", labelpad=20, fontsize=13)\n",
    "ax.set_ylabel(\"Runtime(Sec)\", labelpad=20, fontsize=13)\n",
    "ax.set_title(\"Number of Deletions Vs Runtime\", pad=20,fontsize=15)\n",
    "plt.show()"
   ]
  },
  {
   "cell_type": "markdown",
   "metadata": {},
   "source": [
    "<font color=darkblue>**PLOT#7**:Runtime Vs Number of Deletions </font><br/>\n",
    "<font color=green>**INSIGHT#7**: Runtime of the algorithms that has used array based queue as back end<span>(BFS_2, A*_2)</span> is far higher than the ones that has used heap priority queue</font><br/>\n",
    "<font color=green><b>INSIGHT#7.1</b>:  Number of deletions do effect runtime in a linear fashion with low constant factor</font>"
   ]
  },
  {
   "cell_type": "code",
   "execution_count": 24,
   "metadata": {},
   "outputs": [
    {
     "data": {
      "image/png": "[encoded data removed]",
      "text/plain": [
       "<Figure size 432x288 with 1 Axes>"
      ]
     },
     "metadata": {
      "needs_background": "light"
     },
     "output_type": "display_data"
    }
   ],
   "source": [
    "ax = df[['n_deletions','BFS','A*']].plot(x='n_deletions', kind='bar', legend=True, fontsize=12)\n",
    "ax.set_xlabel(\"Number of Deletions\", labelpad=20, fontsize=13)\n",
    "ax.set_ylabel(\"Runtime(Sec)\", labelpad=20, fontsize=13)\n",
    "ax.set_title(\"Number of Deletions Vs Runtime\\nUsing Heap Based Priority Queue\", pad=20,fontsize=15)\n",
    "plt.show()"
   ]
  },
  {
   "cell_type": "markdown",
   "metadata": {},
   "source": [
    "<font color=darkblue>**PLOT#8**: Runtime(sec) Vs Number of Deletions </font><br/>\n",
    "<font color=green>**INSIGHT#8**: In general number of deletions does not increases run time so much</font><br/>\n",
    "<font color=green>**INSIGHT#8.1**: Algorithm used does not differentiate the time taken much as long as heap based priority queue used.</font>"
   ]
  },
  {
   "cell_type": "code",
   "execution_count": 25,
   "metadata": {},
   "outputs": [
    {
     "data": {
      "image/png": "[encoded data removed]",
      "text/plain": [
       "<Figure size 432x288 with 1 Axes>"
      ]
     },
     "metadata": {
      "needs_background": "light"
     },
     "output_type": "display_data"
    }
   ],
   "source": [
    "ax = df[['n_deletions','BFS_2','A*_2']].plot(x='n_deletions', kind='bar', legend=True, fontsize=12)\n",
    "ax.set_xlabel(\"Number of Deletions\", labelpad=20, fontsize=13)\n",
    "ax.set_ylabel(\"Runtime(Sec)\", labelpad=20, fontsize=13)\n",
    "ax.set_title(\"Number of Deletions Vs Runtime\\nUsing Array Based Queue\", pad=20,fontsize=15)\n",
    "plt.show()"
   ]
  },
  {
   "cell_type": "markdown",
   "metadata": {},
   "source": [
    "<font color=darkblue>**PLOT#9**:Number of Deletions Vs Runtime(sec) using Array Based Queue </font><br/>\n",
    "<font color=green>**INSIGHT#9**: The algorithm used does not change the runtime much but rather the queue type used.</font><br/>\n",
    "<font color=green>**INSIGHT#9.1**: When array based queue used, it tends to be computationally extensive.</font>"
   ]
  },
  {
   "cell_type": "markdown",
   "metadata": {},
   "source": [
    "### Distance vs Number of Deletions"
   ]
  },
  {
   "cell_type": "code",
   "execution_count": 26,
   "metadata": {},
   "outputs": [],
   "source": [
    "result_list = list()\n",
    "for i in range(10):\n",
    "    # calculate distance\n",
    "    start = data_for_analysis[i][0]\n",
    "    target = data_for_analysis[i][1]\n",
    "    distance = Pixel.manhattan_distance(start[0],start[1],target[0],target[1])\n",
    "    # get number of deletions\n",
    "    n_deletions = data_for_analysis[i][2]['n_deletions'][0]\n",
    "    # insert into result\n",
    "    result_list.append( (distance,n_deletions) )\n",
    "    \n",
    "df = pd.DataFrame(result_list)\n",
    "df.index.name = 'Run'\n",
    "df.columns = ['distance', 'n_deletion']"
   ]
  },
  {
   "cell_type": "code",
   "execution_count": 27,
   "metadata": {},
   "outputs": [
    {
     "data": {
      "text/html": [
       "<div>\n",
       "<style scoped>\n",
       "    .dataframe tbody tr th:only-of-type {\n",
       "        vertical-align: middle;\n",
       "    }\n",
       "\n",
       "    .dataframe tbody tr th {\n",
       "        vertical-align: top;\n",
       "    }\n",
       "\n",
       "    .dataframe thead th {\n",
       "        text-align: right;\n",
       "    }\n",
       "</style>\n",
       "<table border=\"1\" class=\"dataframe\">\n",
       "  <thead>\n",
       "    <tr style=\"text-align: right;\">\n",
       "      <th></th>\n",
       "      <th>distance</th>\n",
       "      <th>n_deletion</th>\n",
       "    </tr>\n",
       "    <tr>\n",
       "      <th>Run</th>\n",
       "      <th></th>\n",
       "      <th></th>\n",
       "    </tr>\n",
       "  </thead>\n",
       "  <tbody>\n",
       "    <tr>\n",
       "      <th>0</th>\n",
       "      <td>2682</td>\n",
       "      <td>2683</td>\n",
       "    </tr>\n",
       "    <tr>\n",
       "      <th>1</th>\n",
       "      <td>2169</td>\n",
       "      <td>2170</td>\n",
       "    </tr>\n",
       "    <tr>\n",
       "      <th>2</th>\n",
       "      <td>2620</td>\n",
       "      <td>2621</td>\n",
       "    </tr>\n",
       "    <tr>\n",
       "      <th>3</th>\n",
       "      <td>2300</td>\n",
       "      <td>2301</td>\n",
       "    </tr>\n",
       "    <tr>\n",
       "      <th>4</th>\n",
       "      <td>2588</td>\n",
       "      <td>2589</td>\n",
       "    </tr>\n",
       "    <tr>\n",
       "      <th>5</th>\n",
       "      <td>2483</td>\n",
       "      <td>2484</td>\n",
       "    </tr>\n",
       "    <tr>\n",
       "      <th>6</th>\n",
       "      <td>2103</td>\n",
       "      <td>2104</td>\n",
       "    </tr>\n",
       "    <tr>\n",
       "      <th>7</th>\n",
       "      <td>2551</td>\n",
       "      <td>2552</td>\n",
       "    </tr>\n",
       "    <tr>\n",
       "      <th>8</th>\n",
       "      <td>2448</td>\n",
       "      <td>2449</td>\n",
       "    </tr>\n",
       "    <tr>\n",
       "      <th>9</th>\n",
       "      <td>2273</td>\n",
       "      <td>2274</td>\n",
       "    </tr>\n",
       "  </tbody>\n",
       "</table>\n",
       "</div>"
      ],
      "text/plain": [
       "     distance  n_deletion\n",
       "Run                      \n",
       "0        2682        2683\n",
       "1        2169        2170\n",
       "2        2620        2621\n",
       "3        2300        2301\n",
       "4        2588        2589\n",
       "5        2483        2484\n",
       "6        2103        2104\n",
       "7        2551        2552\n",
       "8        2448        2449\n",
       "9        2273        2274"
      ]
     },
     "execution_count": 27,
     "metadata": {},
     "output_type": "execute_result"
    }
   ],
   "source": [
    "df"
   ]
  },
  {
   "cell_type": "code",
   "execution_count": 28,
   "metadata": {},
   "outputs": [
    {
     "data": {
      "text/plain": [
       "<matplotlib.axes._subplots.AxesSubplot at 0x29cb7dffec8>"
      ]
     },
     "execution_count": 28,
     "metadata": {},
     "output_type": "execute_result"
    },
    {
     "data": {
      "image/png": "[encoded data removed]",
      "text/plain": [
       "<Figure size 432x288 with 1 Axes>"
      ]
     },
     "metadata": {
      "needs_background": "light"
     },
     "output_type": "display_data"
    }
   ],
   "source": [
    "df.plot(x='distance', y='n_deletion')"
   ]
  },
  {
   "cell_type": "markdown",
   "metadata": {},
   "source": [
    "<font color=darkblue>**PLOT#10**:Distance Vs Number of Deletions </font><br/>\n",
    "<font color=green>**INSIGHT#10**: Distance and Number of Deletions have one-to-one relation</font><br/>"
   ]
  },
  {
   "cell_type": "markdown",
   "metadata": {},
   "source": [
    "### Distance Vs Max Queue Size"
   ]
  },
  {
   "cell_type": "code",
   "execution_count": 29,
   "metadata": {},
   "outputs": [],
   "source": [
    "result_list = list()\n",
    "for i in range(10):\n",
    "    # calculate distance\n",
    "    start = data_for_analysis[i][0]\n",
    "    target = data_for_analysis[i][1]\n",
    "    distance = Pixel.manhattan_distance(start[0],start[1],target[0],target[1])\n",
    "    # get max queue size\n",
    "    max_size = data_for_analysis[i][2]['max_size'][0]\n",
    "    # insert into result\n",
    "    result_list.append( (distance,max_size) )\n",
    "    \n",
    "df = pd.DataFrame(result_list)\n",
    "df.index.name = 'Run'\n",
    "df.columns = ['distance', 'max_size']"
   ]
  },
  {
   "cell_type": "code",
   "execution_count": 30,
   "metadata": {},
   "outputs": [
    {
     "data": {
      "text/html": [
       "<div>\n",
       "<style scoped>\n",
       "    .dataframe tbody tr th:only-of-type {\n",
       "        vertical-align: middle;\n",
       "    }\n",
       "\n",
       "    .dataframe tbody tr th {\n",
       "        vertical-align: top;\n",
       "    }\n",
       "\n",
       "    .dataframe thead th {\n",
       "        text-align: right;\n",
       "    }\n",
       "</style>\n",
       "<table border=\"1\" class=\"dataframe\">\n",
       "  <thead>\n",
       "    <tr style=\"text-align: right;\">\n",
       "      <th></th>\n",
       "      <th>distance</th>\n",
       "      <th>max_size</th>\n",
       "    </tr>\n",
       "    <tr>\n",
       "      <th>Run</th>\n",
       "      <th></th>\n",
       "      <th></th>\n",
       "    </tr>\n",
       "  </thead>\n",
       "  <tbody>\n",
       "    <tr>\n",
       "      <th>0</th>\n",
       "      <td>2682</td>\n",
       "      <td>8047</td>\n",
       "    </tr>\n",
       "    <tr>\n",
       "      <th>1</th>\n",
       "      <td>2169</td>\n",
       "      <td>6508</td>\n",
       "    </tr>\n",
       "    <tr>\n",
       "      <th>2</th>\n",
       "      <td>2620</td>\n",
       "      <td>7861</td>\n",
       "    </tr>\n",
       "    <tr>\n",
       "      <th>3</th>\n",
       "      <td>2300</td>\n",
       "      <td>6901</td>\n",
       "    </tr>\n",
       "    <tr>\n",
       "      <th>4</th>\n",
       "      <td>2588</td>\n",
       "      <td>7765</td>\n",
       "    </tr>\n",
       "    <tr>\n",
       "      <th>5</th>\n",
       "      <td>2483</td>\n",
       "      <td>7450</td>\n",
       "    </tr>\n",
       "    <tr>\n",
       "      <th>6</th>\n",
       "      <td>2103</td>\n",
       "      <td>6310</td>\n",
       "    </tr>\n",
       "    <tr>\n",
       "      <th>7</th>\n",
       "      <td>2551</td>\n",
       "      <td>7654</td>\n",
       "    </tr>\n",
       "    <tr>\n",
       "      <th>8</th>\n",
       "      <td>2448</td>\n",
       "      <td>7345</td>\n",
       "    </tr>\n",
       "    <tr>\n",
       "      <th>9</th>\n",
       "      <td>2273</td>\n",
       "      <td>6820</td>\n",
       "    </tr>\n",
       "  </tbody>\n",
       "</table>\n",
       "</div>"
      ],
      "text/plain": [
       "     distance  max_size\n",
       "Run                    \n",
       "0        2682      8047\n",
       "1        2169      6508\n",
       "2        2620      7861\n",
       "3        2300      6901\n",
       "4        2588      7765\n",
       "5        2483      7450\n",
       "6        2103      6310\n",
       "7        2551      7654\n",
       "8        2448      7345\n",
       "9        2273      6820"
      ]
     },
     "execution_count": 30,
     "metadata": {},
     "output_type": "execute_result"
    }
   ],
   "source": [
    "df"
   ]
  },
  {
   "cell_type": "code",
   "execution_count": 31,
   "metadata": {},
   "outputs": [
    {
     "data": {
      "text/plain": [
       "<matplotlib.axes._subplots.AxesSubplot at 0x29cb7e7a4c8>"
      ]
     },
     "execution_count": 31,
     "metadata": {},
     "output_type": "execute_result"
    },
    {
     "data": {
      "image/png": "[encoded data removed]",
      "text/plain": [
       "<Figure size 432x288 with 1 Axes>"
      ]
     },
     "metadata": {
      "needs_background": "light"
     },
     "output_type": "display_data"
    }
   ],
   "source": [
    "df.plot(x='distance', y='max_size')"
   ]
  },
  {
   "cell_type": "markdown",
   "metadata": {},
   "source": [
    "<font color=darkblue>**PLOT#11**:Distance Vs Max Queue Size </font><br/>\n",
    "<font color=green>**INSIGHT#11**: As distance between start and target increase, max queue size is also increasein a linearly fashion</font><br/>\n",
    "<font color=green>**INSIGHT#11.1**: Maximum queue size used is tend to be 3 fold of distance between starting and target point</font>"
   ]
  },
  {
   "cell_type": "markdown",
   "metadata": {},
   "source": [
    "### Max Queue Size Vs Number of Deletions "
   ]
  },
  {
   "cell_type": "code",
   "execution_count": 32,
   "metadata": {},
   "outputs": [],
   "source": [
    "result_list = list()\n",
    "for i in range(10):\n",
    "    # get max size of queue\n",
    "    max_size = data_for_analysis[i][2]['max_size'][0]\n",
    "    # get number of deletions\n",
    "    n_deletions = data_for_analysis[i][2]['n_deletions'][0]\n",
    "    # insert into result\n",
    "    result_list.append( (max_size, n_deletions) )\n",
    "    \n",
    "df = pd.DataFrame(result_list)\n",
    "df.index.name = 'Run'\n",
    "df.columns = ['max_size', 'n_deletions']"
   ]
  },
  {
   "cell_type": "code",
   "execution_count": 33,
   "metadata": {},
   "outputs": [
    {
     "data": {
      "text/html": [
       "<div>\n",
       "<style scoped>\n",
       "    .dataframe tbody tr th:only-of-type {\n",
       "        vertical-align: middle;\n",
       "    }\n",
       "\n",
       "    .dataframe tbody tr th {\n",
       "        vertical-align: top;\n",
       "    }\n",
       "\n",
       "    .dataframe thead th {\n",
       "        text-align: right;\n",
       "    }\n",
       "</style>\n",
       "<table border=\"1\" class=\"dataframe\">\n",
       "  <thead>\n",
       "    <tr style=\"text-align: right;\">\n",
       "      <th></th>\n",
       "      <th>max_size</th>\n",
       "      <th>n_deletions</th>\n",
       "    </tr>\n",
       "    <tr>\n",
       "      <th>Run</th>\n",
       "      <th></th>\n",
       "      <th></th>\n",
       "    </tr>\n",
       "  </thead>\n",
       "  <tbody>\n",
       "    <tr>\n",
       "      <th>0</th>\n",
       "      <td>8047</td>\n",
       "      <td>2683</td>\n",
       "    </tr>\n",
       "    <tr>\n",
       "      <th>1</th>\n",
       "      <td>6508</td>\n",
       "      <td>2170</td>\n",
       "    </tr>\n",
       "    <tr>\n",
       "      <th>2</th>\n",
       "      <td>7861</td>\n",
       "      <td>2621</td>\n",
       "    </tr>\n",
       "    <tr>\n",
       "      <th>3</th>\n",
       "      <td>6901</td>\n",
       "      <td>2301</td>\n",
       "    </tr>\n",
       "    <tr>\n",
       "      <th>4</th>\n",
       "      <td>7765</td>\n",
       "      <td>2589</td>\n",
       "    </tr>\n",
       "    <tr>\n",
       "      <th>5</th>\n",
       "      <td>7450</td>\n",
       "      <td>2484</td>\n",
       "    </tr>\n",
       "    <tr>\n",
       "      <th>6</th>\n",
       "      <td>6310</td>\n",
       "      <td>2104</td>\n",
       "    </tr>\n",
       "    <tr>\n",
       "      <th>7</th>\n",
       "      <td>7654</td>\n",
       "      <td>2552</td>\n",
       "    </tr>\n",
       "    <tr>\n",
       "      <th>8</th>\n",
       "      <td>7345</td>\n",
       "      <td>2449</td>\n",
       "    </tr>\n",
       "    <tr>\n",
       "      <th>9</th>\n",
       "      <td>6820</td>\n",
       "      <td>2274</td>\n",
       "    </tr>\n",
       "  </tbody>\n",
       "</table>\n",
       "</div>"
      ],
      "text/plain": [
       "     max_size  n_deletions\n",
       "Run                       \n",
       "0        8047         2683\n",
       "1        6508         2170\n",
       "2        7861         2621\n",
       "3        6901         2301\n",
       "4        7765         2589\n",
       "5        7450         2484\n",
       "6        6310         2104\n",
       "7        7654         2552\n",
       "8        7345         2449\n",
       "9        6820         2274"
      ]
     },
     "execution_count": 33,
     "metadata": {},
     "output_type": "execute_result"
    }
   ],
   "source": [
    "df"
   ]
  },
  {
   "cell_type": "code",
   "execution_count": 34,
   "metadata": {},
   "outputs": [
    {
     "data": {
      "text/plain": [
       "<matplotlib.axes._subplots.AxesSubplot at 0x29cb6be4c48>"
      ]
     },
     "execution_count": 34,
     "metadata": {},
     "output_type": "execute_result"
    },
    {
     "data": {
      "image/png": "[encoded data removed]",
      "text/plain": [
       "<Figure size 432x288 with 1 Axes>"
      ]
     },
     "metadata": {
      "needs_background": "light"
     },
     "output_type": "display_data"
    }
   ],
   "source": [
    "df.plot(x='max_size', y='n_deletions')"
   ]
  },
  {
   "cell_type": "markdown",
   "metadata": {},
   "source": [
    "<font color=darkblue>**PLOT#13**:Max Queue Size Vs Number of Deletions </font><br/>\n",
    "<font color=green>**INSIGHT#13**: As max queue size used increase, number of deletions also increases in a linearly fashion</font><br/>\n",
    "<font color=green>**INSIGHT#13.1**: Maximum queue size used is tend to be 3 fold of number of deletions</font>"
   ]
  },
  {
   "cell_type": "code",
   "execution_count": null,
   "metadata": {},
   "outputs": [],
   "source": []
  }
 ],
 "metadata": {
  "kernelspec": {
   "display_name": "Python 3",
   "language": "python",
   "name": "python3"
  },
  "language_info": {
   "codemirror_mode": {
    "name": "ipython",
    "version": 3
   },
   "file_extension": ".py",
   "mimetype": "text/x-python",
   "name": "python",
   "nbconvert_exporter": "python",
   "pygments_lexer": "ipython3",
   "version": "3.7.4"
  }
 },
 "nbformat": 4,
 "nbformat_minor": 4
}
