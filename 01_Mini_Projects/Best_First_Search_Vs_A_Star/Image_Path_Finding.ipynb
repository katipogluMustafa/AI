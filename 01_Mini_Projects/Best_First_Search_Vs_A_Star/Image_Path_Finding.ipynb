{
 "cells": [
  {
   "cell_type": "code",
   "execution_count": 1,
   "metadata": {},
   "outputs": [],
   "source": [
    "import math\n",
    "import os\n",
    "import random\n",
    "from PIL import Image\n",
    "from timeit import default_timer"
   ]
  },
  {
   "cell_type": "code",
   "execution_count": 2,
   "metadata": {},
   "outputs": [],
   "source": [
    "############################################################################\n",
    "########################----Pixel Class----#################################\n",
    "############################################################################\n",
    "class Pixel:\n",
    "    \"\"\"\n",
    "        Always setup static variables: 'is_a_star', 'target'\n",
    "    \"\"\"\n",
    "    is_a_star = False  # False -> Best First Search, True-> A*\n",
    "    target = (5, 7)  # Target to which we calculate the Heuristic Function\n",
    "\n",
    "    def __init__(self, x, y, color, parent_cost):\n",
    "        self.x = x\n",
    "        self.y = y\n",
    "        self.color = color\n",
    "        self.cost = parent_cost + Pixel.get_pixel_cost(color)\n",
    "\n",
    "    # Evaluating Pixel Values\n",
    "\n",
    "    def h(self):\n",
    "        \"\"\" Heuristic Function\"\"\"\n",
    "        return Pixel.euclidean_distance(self.x, self.y, Pixel.target[0], Pixel.target[1])\n",
    "\n",
    "    def g(self):\n",
    "        \"\"\" Cost Function\"\"\"\n",
    "        return self.cost\n",
    "\n",
    "    def f(self):\n",
    "        if not Pixel.is_a_star:\n",
    "            return self.h()  # -> Best First Search\n",
    "        return self.h() + self.g()  # -> A *\n",
    "\n",
    "    # Comparing Pixels\n",
    "\n",
    "    def __lt__(self, other):\n",
    "        return self.f() < other.f()\n",
    "\n",
    "    def __le__(self, other):\n",
    "        return self.f() <= other.f()\n",
    "\n",
    "    def __gt__(self, other):\n",
    "        return self.f() > other.f()\n",
    "\n",
    "    def __ge__(self, other):\n",
    "        return self.f() >= other.f()\n",
    "\n",
    "    def __eq__(self, other):\n",
    "        return self.f() == other.f()\n",
    "\n",
    "    def __ne__(self, other):\n",
    "        return self.f() != other.f()\n",
    "\n",
    "    # Printing Pixels\n",
    "\n",
    "    def __repr__(self):\n",
    "        return f\"(x={self.x},y={self.y},color={self.color}, g()={self.cost}, h()={self.h()}, f()={self.f()})\"\n",
    "\n",
    "    def __str__(self):\n",
    "        return f\"(x={self.x},y={self.y},color={self.color}, g()={self.cost}, h()={self.h()}, f()={self.f()})\"\n",
    "\n",
    "    # Utility Methods\n",
    "\n",
    "    @staticmethod\n",
    "    def get_pixel_cost(color):\n",
    "        if color[0] == 0:\n",
    "            return 1\n",
    "        return 1 / (color[0])  # Reverse of the 'red' in RGB\n",
    "\n",
    "    @staticmethod\n",
    "    def euclidean_distance(x1, y1, x2, y2):\n",
    "        return math.sqrt((x1  - x2) ** 2 + (y1 - y2) ** 2)\n",
    "    \n",
    "    @staticmethod\n",
    "    def manhattan_distance(x1, y1, x2, y2):\n",
    "        return abs(x1 - x2) + abs(y1 - y2)"
   ]
  },
  {
   "cell_type": "code",
   "execution_count": 3,
   "metadata": {},
   "outputs": [],
   "source": [
    "############################################################################\n",
    "########################----PriorityQueue Class----#########################\n",
    "############################################################################\n",
    "class PriorityQueue:\n",
    "\n",
    "    def __init__(self, initial_elements: list, comparator, max_redundant_element_count=100):\n",
    "        self.comparator = comparator\n",
    "        self.max_redundant_element_count = max_redundant_element_count  # See delete method\n",
    "        self.heap = self.heapify(initial_elements)\n",
    "        self.length = len(self.heap)\n",
    "        self.max_queue_size_seen = -1\n",
    "        self.number_of_deletions = 0\n",
    "\n",
    "    def heapify(self, elements: list):\n",
    "        \"\"\"\n",
    "        Takes list of elements, returns Heap\n",
    "        Complexity: O(n)\n",
    "        \"\"\"\n",
    "\n",
    "        if not elements:  # If elements is empty\n",
    "            return []  # return empty list as heap\n",
    "\n",
    "        last_index = len(elements) - 1  # Get Last Element's index\n",
    "        parent_of_last_index = (last_index - 1) // 2  # Get Last Element's Parent's index\n",
    "        # After last parent the tree, there is no subtree to adjust\n",
    "        for i in range(parent_of_last_index, -1, -1):\n",
    "            # Starting from last parent, assuming the given 'i' as the root of the subtree, down_heap\n",
    "            self.down_heap(elements, len(elements), root_index=i)\n",
    "        return elements  # Return the heap\n",
    "\n",
    "    def insert(self, x):\n",
    "        \"\"\"\n",
    "         Complexity: O(logN)\n",
    "        \"\"\"\n",
    "        i = self.length  # index of the x\n",
    "        parent_i = (i - 1) // 2  # index of x's parent\n",
    "\n",
    "        self.heap.append(x)  # Insert x into its index\n",
    "        self.length += 1\n",
    "        if self.max_queue_size_seen < self.length:\n",
    "            self.max_queue_size_seen = self.length\n",
    "\n",
    "        while i > 0 and self.comparator(x, self.heap[parent_i]):\n",
    "            self.heap[i] = self.heap[parent_i]  # put the parent into x's place\n",
    "            i = parent_i  # Update x's index, hypothetically x is there\n",
    "            parent_i = (i - 1) // 2  # Calculate x's new parent's index\n",
    "        self.heap[i] = x  # Insert x into its real place\n",
    "\n",
    "    def delete(self):\n",
    "        \"\"\"\n",
    "        Complexity = O(logN)\n",
    "        \"\"\"\n",
    "\n",
    "        deleted_element = self.heap[0]  # Delete the root by taking and putting last el into its place\n",
    "        self.heap[0] = self.heap[self.length - 1]  # Put the last element into root of the tree\n",
    "        self.down_heap(self.heap, length=self.length)  # Adjust the tree so that it becomes heap again\n",
    "        self.length -= 1  # Exclude last element since it is no longer inside the heap\n",
    "        self.number_of_deletions += 1\n",
    "        # If list grows so much, deallocate the unnecessary space\n",
    "        actual_length = len(self.heap)\n",
    "        if (actual_length - self.length) > self.max_redundant_element_count:\n",
    "            self.heap = self.heap[:self.length]\n",
    "\n",
    "        return deleted_element\n",
    "\n",
    "    def is_empty(self):\n",
    "        return self.length == 0\n",
    "\n",
    "    def down_heap(self, heap: list, length, root_index=0):\n",
    "        i = root_index  # Start from given subtrees root\n",
    "        max_child = self.get_max_priority_child_index(heap, length, i)  # Get max priority child's index\n",
    "        while (max_child is not None) and self.comparator(heap[max_child], heap[i]):\n",
    "            # while child exists and child greater than parent, swap them\n",
    "            heap[i], heap[max_child] = heap[max_child], heap[i]  # Swap\n",
    "            i = max_child  # Update node's index\n",
    "            max_child = self.get_max_priority_child_index(heap, length, i)\n",
    "\n",
    "    def get_max_priority_child_index(self, heap, length, index):\n",
    "        last_index = length - 1\n",
    "        if last_index < (index * 2 + 1):  # No child\n",
    "            return None\n",
    "        elif last_index < (index * 2 + 2):  # Only Left Child exists\n",
    "            return index * 2 + 1\n",
    "        else:  # Both children exists\n",
    "            if self.comparator(heap[index * 2 + 1], heap[index * 2 + 2]):\n",
    "                return index * 2 + 1  # Return Left Child as Max Priority child\n",
    "            else:\n",
    "                return index * 2 + 2  # Return Right Child as Max Priority child\n",
    "\n",
    "    def __repr__(self):\n",
    "        result = \"[\\n\"\n",
    "        for i in range(0, self.length):\n",
    "            result += str(i) + \":\" + str(self.heap[i]) + \"\\n\"\n",
    "        result += \"]\"\n",
    "        return result\n",
    "\n",
    "    def __str__(self):\n",
    "        result = \"[\\n\"\n",
    "        for i in range(0, self.length):\n",
    "            result += str(i) + \":\" + str(self.heap[i]) + \"\\n\"\n",
    "        result += \"]\"\n",
    "        return result"
   ]
  },
  {
   "cell_type": "code",
   "execution_count": 4,
   "metadata": {},
   "outputs": [],
   "source": [
    "############################################################################\n",
    "########################----Queue Class----#################################\n",
    "############################################################################\n",
    "class Queue:\n",
    "\n",
    "    def __init__(self, capacity=100):\n",
    "        self.internal_list = [None] * capacity\n",
    "        self.capacity = capacity\n",
    "        self.front = 0\n",
    "        self.rear = capacity - 1\n",
    "        self.size = 0\n",
    "        self.max_queue_size_seen = -1\n",
    "        self.number_of_deletions = 0\n",
    "\n",
    "    def insert(self, x):\n",
    "        if self.is_full():\n",
    "            print(\"Queue is Full!\")\n",
    "            return\n",
    "\n",
    "        self.rear = (self.rear + 1) % self.capacity\n",
    "        self.internal_list[self.rear] = x\n",
    "        self.size += 1\n",
    "\n",
    "        if self.size > self.max_queue_size_seen:\n",
    "            self.max_queue_size_seen = self.size\n",
    "\n",
    "    def delete(self):\n",
    "        if self.is_empty():\n",
    "            print(\"Queue is Empty!\")\n",
    "            return None\n",
    "\n",
    "        deleted_item = self.internal_list[self.front]\n",
    "        self.front = (self.front + 1) % self.capacity\n",
    "        self.size -= 1\n",
    "        self.number_of_deletions += 1\n",
    "        return deleted_item\n",
    "\n",
    "    def is_empty(self):\n",
    "        return self.size == 0\n",
    "\n",
    "    def is_full(self):\n",
    "        return self.capacity == self.size\n",
    "\n",
    "    def sort(self):\n",
    "        \"\"\" Using Insertion Sort \"\"\"\n",
    "        for i in range(self.front + 1, self.rear + 1):\n",
    "            temp = self.internal_list[i]\n",
    "            j = i - 1\n",
    "\n",
    "            while j >= self.front and self.internal_list[j] > temp:\n",
    "                self.internal_list[j + 1] = self.internal_list[j]\n",
    "                j -= 1\n",
    "            self.internal_list[j + 1] = temp\n",
    "\n",
    "    def __repr__(self):\n",
    "        result = \"[\\n\"\n",
    "        for i in range(self.front, self.rear + 1):\n",
    "            result += str(i) + \":\" + str(self.internal_list[i]) + \"\\n\"\n",
    "        result += \"]\"\n",
    "        return result\n",
    "\n",
    "    def __str__(self):\n",
    "        result = \"[\\n\"\n",
    "        for i in range(self.front, self.rear + 1):\n",
    "            result += str(i) + \":\" + str(self.internal_list[i]) + \"\\n\"\n",
    "        result += \"]\"\n",
    "        return result"
   ]
  },
  {
   "cell_type": "code",
   "execution_count": 5,
   "metadata": {},
   "outputs": [],
   "source": [
    "############################################################################\n",
    "######################---- Image Path Finder Class ----#####################\n",
    "############################################################################\n",
    "class ImagePathFinder:\n",
    "\n",
    "    def __init__(self, image:Image, start, target ):\n",
    "        \"\"\" @param image should never be None\"\"\"\n",
    "        self.image = image\n",
    "        self.width, self.height = image.size\n",
    "        self.target = target\n",
    "        self.start = start\n",
    "\n",
    "    def save_image(self, image = None, location=f'C:/Users/Yukawa/AI/', name=\"rainbow_result\", extension=\".jpg\"):\n",
    "        if image is None:\n",
    "            image = self.image\n",
    "        image.save(location + name + extension)\n",
    "\n",
    "    def insert_pixel(self, queue, image_pixels, x, y, parent_cost):\n",
    "        if 0 <= x < self.width and 0 <= y < self.height:                                # If valid pixel\n",
    "            queue.insert(Pixel(x, y, color=image_pixels[x,y], parent_cost=parent_cost))  # insert the pixel\n",
    "\n",
    "    ### Path Finding Algorithms\n",
    "    def find_path(self, is_a_star = True, use_priority_queue = True, image_folder_to_save=f'C:/Users/Yukawa/AI/', image_name_to_save=\"default\"):\n",
    "        \"\"\"\n",
    "        Finds path between start and target and paints it as white\n",
    "        :param is_a_star:  if True then A* algorithm, otherwise Best First Search Algorithm\n",
    "        :param use_priority_queue: if True then use Heap based Priority Queue, otherwise use List based Queue\n",
    "        :param image_folder_to_save: The folder that we will be putting the images into\n",
    "        :param image_name_to_save: Name of the image file to be saved\n",
    "        :return: Max Queue Size ever expanded, Max Number of Deletions From the Queue\n",
    "        \"\"\"\n",
    "        if self.image is None:\n",
    "            return None\n",
    "\n",
    "        # Work on copy of the 'self.image'\n",
    "        image = self.image.copy()\n",
    "        pixels = image.load()\n",
    "        # Set the start Pixel\n",
    "        start = Pixel(x=self.start[0], y=self.start[1], color=pixels[self.start[0], self.start[1]], parent_cost=0)\n",
    "        # Configure Function Type\n",
    "        Pixel.is_a_star = is_a_star  # A*:True-> f=g()+h()   Best First Search:False -> f=h()\n",
    "        # Configure h() in Pixel\n",
    "        Pixel.target = (self.target[0], self.target[1])  # Target to which we calculate h()\n",
    "\n",
    "        # Setup Queue with first element\n",
    "        if use_priority_queue:\n",
    "            queue = PriorityQueue([start], lambda a, b: a < b)  # Min Priority Queue\n",
    "        else:\n",
    "            queue = Queue(capacity=50_000)\n",
    "            queue.insert(start)\n",
    "\n",
    "        # Loop infinitely unless queue becomes empty\n",
    "        while (queue.is_empty() == False) and True:\n",
    "            # Remove min f() element from queue\n",
    "            pixel = queue.delete()\n",
    "            x = pixel.x\n",
    "            y = pixel.y\n",
    "            # paint the point as a way of showing we've visited this pixel\n",
    "            pixels[x, y] = (255, 255, 255)\n",
    "            # If current pixel is the target, then the path has found\n",
    "            if x == self.target[0] and y == self.target[1]:\n",
    "                self.save_image(image=image, name=image_name_to_save)\n",
    "                return queue.max_queue_size_seen, queue.number_of_deletions\n",
    "            # Insert Neighbours\n",
    "            self.insert_pixel(queue, image_pixels=pixels, x=x+1, y=y, parent_cost=pixel.cost)\n",
    "            self.insert_pixel(queue, image_pixels=pixels, x=x, y=y+1, parent_cost=pixel.cost)\n",
    "            self.insert_pixel(queue, image_pixels=pixels, x=x-1, y=y, parent_cost=pixel.cost)\n",
    "            self.insert_pixel(queue, image_pixels=pixels, x=x, y=y-1, parent_cost=pixel.cost)\n",
    "\n",
    "            if not use_priority_queue:\n",
    "                # Sort the Queue so that first element becomes lowest cost, highest priority\n",
    "                queue.sort()\n",
    "\n",
    "    def run_4_algorithms(self, folder_to_save_images, image_name_suffix):\n",
    "        # Best First Search With Heap Priority Queue\n",
    "        start_dt = default_timer()\n",
    "        max_size1, n_deletions1 = self.find_path(is_a_star=False, use_priority_queue=True,\n",
    "                                    image_folder_to_save=folder_to_save_images, image_name_to_save=f\"bfs{image_name_suffix}\")\n",
    "        runtime1 = default_timer() - start_dt  # in seconds\n",
    "\n",
    "        # Best First Search With Queue(using List)\n",
    "        start_dt = default_timer()\n",
    "        max_size2, n_deletions2 = self.find_path(is_a_star=False, use_priority_queue=False,\n",
    "                                    image_folder_to_save=folder_to_save_images, image_name_to_save=f\"bfs{image_name_suffix}_2\")\n",
    "        runtime2 = default_timer() - start_dt  # in seconds\n",
    "\n",
    "        # A* with Heap Priority Queue\n",
    "        start_dt = default_timer()\n",
    "        max_size3, n_deletions3 = self.find_path(is_a_star=True, use_priority_queue=True,\n",
    "                                    image_folder_to_save=folder_to_save_images, image_name_to_save=f\"a_star{image_name_suffix}\")\n",
    "        runtime3 = default_timer() - start_dt  # in seconds\n",
    "\n",
    "        # A* with Queue(using List)\n",
    "        start_dt = default_timer()\n",
    "        max_size4, n_deletions4 = self.find_path(is_a_star=True, use_priority_queue=False,\n",
    "                                    image_folder_to_save=folder_to_save_images, image_name_to_save=f\"a_star{image_name_suffix}_2\")\n",
    "        runtime4 = default_timer() - start_dt  # in seconds\n",
    "\n",
    "        return { \"runtime\":(runtime1, runtime2, runtime3, runtime4),\n",
    "                 \"max_size\":(max_size1, max_size2, max_size3, max_size4),\n",
    "                 \"n_deletions\":(n_deletions1, n_deletions2, n_deletions3, n_deletions4) }\n",
    "\n",
    "    @staticmethod\n",
    "    def print_run4algorithm_results(data, start, target):\n",
    "        runtime = data['runtime']\n",
    "        max_size = data['max_size']\n",
    "        n_deletions = data['n_deletions']\n",
    "\n",
    "        print(f\"Start({start[0]},{start[1]}) Target({target[0]},{target[1]})\\n\"\n",
    "              f\"Max Size Seen: BFS:{max_size[0]}, BFS_2:{max_size[1]}, A*:{max_size[2]}, A*_2:{max_size[3]}\\n\"\n",
    "              f\"Number of Deletions: BFS:{n_deletions[0]}, BFS_2:{n_deletions[1]}, A*:{n_deletions[2]}, A*_2:{n_deletions[3]}\\n\"\n",
    "              f\"Runtime(in seconds):\\n\\tBFS:{runtime[0]:.2f}, BFS_2={runtime[1]:.2f}, A*={runtime[2]:.2f}, A*_2={runtime[3]:.2f}\")\n",
    "\n",
    "    @staticmethod\n",
    "    def analise(image, folder_to_save_images, n=10):\n",
    "        \"\"\"\n",
    "        !! Image must have size greater than 1000x1000\n",
    "        For random 'n' number of random points, run the 4 algorithms\n",
    "        @:returns list of data dictionary\n",
    "        \"\"\"\n",
    "\n",
    "        print(f\"\\nAnalysis For {n} Random Points\\n\")\n",
    "        width, height = image.size\n",
    "\n",
    "        # For 10 Image\n",
    "        data_list = list()\n",
    "\n",
    "        for i in range(n):\n",
    "            start = (random.randint(0, width), random.randint(0, height))\n",
    "            target = (random.randint(0, width), random.randint(0, height))\n",
    "            data = ImagePathFinder(image, start=start, target=target).run_4_algorithms(\n",
    "                folder_to_save_images=folder_to_save_images, image_name_suffix=i)\n",
    "            print(\"\\n\")\n",
    "            ImagePathFinder.print_run4algorithm_results(data,start,target)\n",
    "            data_list.append( (start, target, data) )\n",
    "        return data_list\n"
   ]
  },
  {
   "cell_type": "markdown",
   "metadata": {},
   "source": [
    "## Main Function"
   ]
  },
  {
   "cell_type": "code",
   "execution_count": 6,
   "metadata": {},
   "outputs": [
    {
     "name": "stdout",
     "output_type": "stream",
     "text": [
      "Image Path: C:/Users/Yukawa/AI/rainbow.jpg\n",
      "Folder To Save Images: C:/Users/Yukawa/AI/\n",
      "Image Width: 1920, Image Height: 1200\n",
      "Start(x,y for example-> 3,4):5,96\n",
      "Target(x,y for example-> 9,7):475,653\n"
     ]
    }
   ],
   "source": [
    "##### Take Image\n",
    "valid_image_taken = False\n",
    "while not valid_image_taken:\n",
    "    try:\n",
    "        input_image_path = input(\"Image Path: \")\n",
    "        valid_image_taken = True\n",
    "    except FileNotFoundError:\n",
    "        print(\"Image Not Found! ::: Please Give Valid Image Path.\")\n",
    "\n",
    "image = Image.open(input_image_path, 'r')\n",
    "width, height = image.size\n",
    "\n",
    "#### Take Location to save Images\n",
    "valid_path_taken = False\n",
    "folder_to_save_images = \"\"\n",
    "while not valid_path_taken:\n",
    "    folder_to_save_images = input(\"Folder To Save Images: \")\n",
    "    if os.path.isdir(folder_to_save_images):\n",
    "        valid_path_taken = True\n",
    "    else:\n",
    "        print(\"Folder not found! :: Please Give Valid Folder To Save Images.\")\n",
    "\n",
    "\n",
    "##### Take Start Coordinate\n",
    "print(f\"Image Width: {width}, Image Height: {height}\")\n",
    "valid_coordinates_taken = False\n",
    "start_x, start_y = -1,-1\n",
    "while not valid_coordinates_taken:\n",
    "    start_x, start_y = map(int, input(\"Start(x,y for example-> 3,4):\").split(','))\n",
    "    if 0 <= start_x < width and 0 <= start_y < height:\n",
    "        valid_coordinates_taken = True\n",
    "    else:\n",
    "        print(f\"Invalid Coordinates: (x={start_x},y={start_y}) is out of image size({width},{height})\")\n",
    "\n",
    "##### Take Target Coordinate\n",
    "valid_coordinates_taken = False\n",
    "target_x, target_y = -1,-1\n",
    "while not valid_coordinates_taken:\n",
    "    target_x, target_y = map(int, input(\"Target(x,y for example-> 9,7):\").split(','))\n",
    "    if 0 <= target_x < width and 0 <= target_y < height:\n",
    "        valid_coordinates_taken = True\n",
    "    else:\n",
    "        print(f\"Invalid Coordinates: (x={target_x},y={target_y}) is out of image size({width},{height})\")"
   ]
  },
  {
   "cell_type": "markdown",
   "metadata": {},
   "source": [
    "### Run For User Input"
   ]
  },
  {
   "cell_type": "code",
   "execution_count": 7,
   "metadata": {},
   "outputs": [
    {
     "name": "stdout",
     "output_type": "stream",
     "text": [
      "\n",
      "Initial Configurations: Start:(5,96) ::: Target:(475,653)\n",
      "Start(5,96) Target(475,653)\n",
      "Max Size Seen: BFS:3082, BFS_2:3082, A*:3088, A*_2:3088\n",
      "Number of Deletions: BFS:1028, BFS_2:1028, A*:1030, A*_2:1030\n",
      "Runtime(in seconds):\n",
      "\tBFS:0.20, BFS_2=20.84, A*=0.21, A*_2=23.00\n"
     ]
    }
   ],
   "source": [
    "#### Create Image Path Finder\n",
    "image_path_finder = ImagePathFinder(image.copy(),\n",
    "                                    start = (start_x, start_y),\n",
    "                                    target= (target_x,target_y))\n",
    "\n",
    "print(f\"\\nInitial Configurations: Start:({start_x},{start_y}) ::: Target:({target_x},{target_y})\")\n",
    "\n",
    "data = image_path_finder.run_4_algorithms(folder_to_save_images=folder_to_save_images, image_name_suffix=\"_m_\")\n",
    "ImagePathFinder.print_run4algorithm_results(data,(start_x,start_y),(target_x,target_y))"
   ]
  },
  {
   "cell_type": "markdown",
   "metadata": {},
   "source": [
    "### Run 10 Times to Analize "
   ]
  },
  {
   "cell_type": "code",
   "execution_count": 8,
   "metadata": {
    "scrolled": false
   },
   "outputs": [
    {
     "name": "stdout",
     "output_type": "stream",
     "text": [
      "\n",
      "Analysis For 10 Random Points\n",
      "\n",
      "\n",
      "\n",
      "Start(605,241) Target(1479,740)\n",
      "Max Size Seen: BFS:4120, BFS_2:4120, A*:4120, A*_2:4120\n",
      "Number of Deletions: BFS:1374, BFS_2:1374, A*:1374, A*_2:1374\n",
      "Runtime(in seconds):\n",
      "\tBFS:0.27, BFS_2=37.77, A*=0.29, A*_2=40.46\n",
      "\n",
      "\n",
      "Start(997,761) Target(1160,1135)\n",
      "Max Size Seen: BFS:1612, BFS_2:1612, A*:1612, A*_2:1612\n",
      "Number of Deletions: BFS:538, BFS_2:538, A*:538, A*_2:538\n",
      "Runtime(in seconds):\n",
      "\tBFS:0.12, BFS_2=5.71, A*=0.13, A*_2=6.31\n",
      "\n",
      "\n",
      "Start(600,774) Target(67,277)\n",
      "Max Size Seen: BFS:3091, BFS_2:3091, A*:3091, A*_2:3091\n",
      "Number of Deletions: BFS:1031, BFS_2:1031, A*:1031, A*_2:1031\n",
      "Runtime(in seconds):\n",
      "\tBFS:0.31, BFS_2=21.84, A*=0.29, A*_2=24.27\n",
      "\n",
      "\n",
      "Start(1332,256) Target(1440,1001)\n",
      "Max Size Seen: BFS:2560, BFS_2:2560, A*:2560, A*_2:2560\n",
      "Number of Deletions: BFS:854, BFS_2:854, A*:854, A*_2:854\n",
      "Runtime(in seconds):\n",
      "\tBFS:0.18, BFS_2=15.44, A*=0.20, A*_2=15.56\n",
      "\n",
      "\n",
      "Start(1874,843) Target(1620,36)\n",
      "Max Size Seen: BFS:3184, BFS_2:3184, A*:3184, A*_2:3184\n",
      "Number of Deletions: BFS:1062, BFS_2:1062, A*:1062, A*_2:1062\n",
      "Runtime(in seconds):\n",
      "\tBFS:0.21, BFS_2=22.26, A*=0.23, A*_2=23.35\n",
      "\n",
      "\n",
      "Start(1175,1157) Target(418,554)\n",
      "Max Size Seen: BFS:4081, BFS_2:4081, A*:4084, A*_2:4084\n",
      "Number of Deletions: BFS:1361, BFS_2:1361, A*:1362, A*_2:1362\n",
      "Runtime(in seconds):\n",
      "\tBFS:0.27, BFS_2=35.61, A*=0.29, A*_2=40.15\n",
      "\n",
      "\n",
      "Start(91,749) Target(513,727)\n",
      "Max Size Seen: BFS:1333, BFS_2:1333, A*:1333, A*_2:1333\n",
      "Number of Deletions: BFS:445, BFS_2:445, A*:445, A*_2:445\n",
      "Runtime(in seconds):\n",
      "\tBFS:0.11, BFS_2=3.76, A*=0.12, A*_2=4.12\n",
      "\n",
      "\n",
      "Start(606,485) Target(1122,971)\n",
      "Max Size Seen: BFS:3007, BFS_2:3007, A*:3007, A*_2:3007\n",
      "Number of Deletions: BFS:1003, BFS_2:1003, A*:1003, A*_2:1003\n",
      "Runtime(in seconds):\n",
      "\tBFS:0.20, BFS_2=19.76, A*=0.21, A*_2=21.21\n",
      "\n",
      "\n",
      "Start(439,1111) Target(1440,850)\n",
      "Max Size Seen: BFS:3787, BFS_2:3787, A*:3787, A*_2:3787\n",
      "Number of Deletions: BFS:1263, BFS_2:1263, A*:1263, A*_2:1263\n",
      "Runtime(in seconds):\n",
      "\tBFS:0.25, BFS_2=32.03, A*=0.27, A*_2=38.37\n",
      "\n",
      "\n",
      "Start(1626,163) Target(1695,780)\n",
      "Max Size Seen: BFS:2059, BFS_2:2059, A*:2059, A*_2:2059\n",
      "Number of Deletions: BFS:687, BFS_2:687, A*:687, A*_2:687\n",
      "Runtime(in seconds):\n",
      "\tBFS:0.14, BFS_2=9.26, A*=0.15, A*_2=11.01\n"
     ]
    }
   ],
   "source": [
    "data_for_analysis = ImagePathFinder.analise(image,folder_to_save_images,10)"
   ]
  },
  {
   "cell_type": "markdown",
   "metadata": {},
   "source": [
    "## Analysis"
   ]
  },
  {
   "cell_type": "code",
   "execution_count": 10,
   "metadata": {},
   "outputs": [],
   "source": [
    "import pandas as pd\n",
    "import matplotlib.pyplot as plt"
   ]
  },
  {
   "cell_type": "markdown",
   "metadata": {},
   "source": [
    "### Distance vs Runtime"
   ]
  },
  {
   "cell_type": "code",
   "execution_count": 11,
   "metadata": {},
   "outputs": [],
   "source": [
    "result_list = list()\n",
    "for i in range(10):\n",
    "    # calculate distance\n",
    "    start = data_for_analysis[i][0]\n",
    "    target = data_for_analysis[i][1]\n",
    "    distance = Pixel.manhattan_distance(start[0],start[1],target[0],target[1])\n",
    "    # get runtime of each run of the algorithm\n",
    "    runtime = data_for_analysis[i][2]['runtime']\n",
    "    # insert into result\n",
    "    result_list.append( (distance,runtime[0], runtime[1], runtime[2], runtime[3]) )\n",
    "    \n",
    "df = pd.DataFrame(result_list)\n",
    "df.index.name = 'Run'\n",
    "df.columns = ['distance', 'BFS', 'BFS_2', 'A*', 'A*_2']\n",
    "df.sort_values('distance', inplace=True, ascending=True)"
   ]
  },
  {
   "cell_type": "code",
   "execution_count": 12,
   "metadata": {},
   "outputs": [
    {
     "data": {
      "text/html": [
       "<div>\n",
       "<style scoped>\n",
       "    .dataframe tbody tr th:only-of-type {\n",
       "        vertical-align: middle;\n",
       "    }\n",
       "\n",
       "    .dataframe tbody tr th {\n",
       "        vertical-align: top;\n",
       "    }\n",
       "\n",
       "    .dataframe thead th {\n",
       "        text-align: right;\n",
       "    }\n",
       "</style>\n",
       "<table border=\"1\" class=\"dataframe\">\n",
       "  <thead>\n",
       "    <tr style=\"text-align: right;\">\n",
       "      <th></th>\n",
       "      <th>distance</th>\n",
       "      <th>BFS</th>\n",
       "      <th>BFS_2</th>\n",
       "      <th>A*</th>\n",
       "      <th>A*_2</th>\n",
       "    </tr>\n",
       "    <tr>\n",
       "      <th>Run</th>\n",
       "      <th></th>\n",
       "      <th></th>\n",
       "      <th></th>\n",
       "      <th></th>\n",
       "      <th></th>\n",
       "    </tr>\n",
       "  </thead>\n",
       "  <tbody>\n",
       "    <tr>\n",
       "      <th>6</th>\n",
       "      <td>444</td>\n",
       "      <td>0.110676</td>\n",
       "      <td>3.761390</td>\n",
       "      <td>0.116437</td>\n",
       "      <td>4.123912</td>\n",
       "    </tr>\n",
       "    <tr>\n",
       "      <th>1</th>\n",
       "      <td>537</td>\n",
       "      <td>0.120699</td>\n",
       "      <td>5.707534</td>\n",
       "      <td>0.125885</td>\n",
       "      <td>6.310272</td>\n",
       "    </tr>\n",
       "    <tr>\n",
       "      <th>9</th>\n",
       "      <td>686</td>\n",
       "      <td>0.143992</td>\n",
       "      <td>9.263585</td>\n",
       "      <td>0.154702</td>\n",
       "      <td>11.011851</td>\n",
       "    </tr>\n",
       "    <tr>\n",
       "      <th>3</th>\n",
       "      <td>853</td>\n",
       "      <td>0.179465</td>\n",
       "      <td>15.436047</td>\n",
       "      <td>0.195236</td>\n",
       "      <td>15.559098</td>\n",
       "    </tr>\n",
       "    <tr>\n",
       "      <th>7</th>\n",
       "      <td>1002</td>\n",
       "      <td>0.195894</td>\n",
       "      <td>19.756621</td>\n",
       "      <td>0.205122</td>\n",
       "      <td>21.205108</td>\n",
       "    </tr>\n",
       "    <tr>\n",
       "      <th>2</th>\n",
       "      <td>1030</td>\n",
       "      <td>0.306339</td>\n",
       "      <td>21.844353</td>\n",
       "      <td>0.293159</td>\n",
       "      <td>24.266070</td>\n",
       "    </tr>\n",
       "    <tr>\n",
       "      <th>4</th>\n",
       "      <td>1061</td>\n",
       "      <td>0.213438</td>\n",
       "      <td>22.255030</td>\n",
       "      <td>0.227193</td>\n",
       "      <td>23.350760</td>\n",
       "    </tr>\n",
       "    <tr>\n",
       "      <th>8</th>\n",
       "      <td>1262</td>\n",
       "      <td>0.253136</td>\n",
       "      <td>32.029826</td>\n",
       "      <td>0.268092</td>\n",
       "      <td>38.369290</td>\n",
       "    </tr>\n",
       "    <tr>\n",
       "      <th>5</th>\n",
       "      <td>1360</td>\n",
       "      <td>0.265013</td>\n",
       "      <td>35.608561</td>\n",
       "      <td>0.285607</td>\n",
       "      <td>40.153373</td>\n",
       "    </tr>\n",
       "    <tr>\n",
       "      <th>0</th>\n",
       "      <td>1373</td>\n",
       "      <td>0.271096</td>\n",
       "      <td>37.765307</td>\n",
       "      <td>0.291605</td>\n",
       "      <td>40.457117</td>\n",
       "    </tr>\n",
       "  </tbody>\n",
       "</table>\n",
       "</div>"
      ],
      "text/plain": [
       "     distance       BFS      BFS_2        A*       A*_2\n",
       "Run                                                    \n",
       "6         444  0.110676   3.761390  0.116437   4.123912\n",
       "1         537  0.120699   5.707534  0.125885   6.310272\n",
       "9         686  0.143992   9.263585  0.154702  11.011851\n",
       "3         853  0.179465  15.436047  0.195236  15.559098\n",
       "7        1002  0.195894  19.756621  0.205122  21.205108\n",
       "2        1030  0.306339  21.844353  0.293159  24.266070\n",
       "4        1061  0.213438  22.255030  0.227193  23.350760\n",
       "8        1262  0.253136  32.029826  0.268092  38.369290\n",
       "5        1360  0.265013  35.608561  0.285607  40.153373\n",
       "0        1373  0.271096  37.765307  0.291605  40.457117"
      ]
     },
     "execution_count": 12,
     "metadata": {},
     "output_type": "execute_result"
    }
   ],
   "source": [
    "df"
   ]
  },
  {
   "cell_type": "code",
   "execution_count": 13,
   "metadata": {
    "scrolled": true
   },
   "outputs": [
    {
     "data": {
      "image/png": "[encoded data removed]",
      "text/plain": [
       "<Figure size 432x288 with 1 Axes>"
      ]
     },
     "metadata": {
      "needs_background": "light"
     },
     "output_type": "display_data"
    }
   ],
   "source": [
    "ax = df.plot(x='distance', kind='bar', legend=True, fontsize=12)\n",
    "ax.set_xlabel(\"Distance Between Start and Target\", labelpad=20, fontsize=13)\n",
    "ax.set_ylabel(\"Runtime(Sec)\", labelpad=20, fontsize=13)\n",
    "ax.set_title(\"Distance Vs Runtime\", pad=20,fontsize=15)\n",
    "plt.show()"
   ]
  },
  {
   "cell_type": "markdown",
   "metadata": {},
   "source": [
    "<font color=darkblue>**PLOT#1**:Distance Vs Runtime </font><br/>\n",
    "<font color=green>**INSIGHT#1**: As distance between start and target increase,the runtime of the algorithms that have been implemented using array based queue(BFS_2, A<span>*</span>_2) outweigh the runtime of the algorithms that have been implemented using heap based priority queue(BFS,A<span>*</span>) </font><br/>\n",
    "<font color=green>**INSIGHT#1.1**: The runtime of the algorithms that have been implemented using array based queue(BFS_2, A<span>*</span>_2) is so inefficient in compared to the the algorithms that have been implemented using heap based priority queue(BFS,A<span>*</span>) </font>"
   ]
  },
  {
   "cell_type": "code",
   "execution_count": 14,
   "metadata": {},
   "outputs": [
    {
     "data": {
      "image/png": "[encoded data removed]",
      "text/plain": [
       "<Figure size 432x288 with 1 Axes>"
      ]
     },
     "metadata": {
      "needs_background": "light"
     },
     "output_type": "display_data"
    }
   ],
   "source": [
    "ax = df[['distance','BFS','A*']].plot(x='distance', kind='bar', legend=True, fontsize=12)\n",
    "ax.set_xlabel(\"Distance Between Start and Target\", labelpad=20, fontsize=13)\n",
    "ax.set_ylabel(\"Runtime(Sec)\", labelpad=20, fontsize=13)\n",
    "ax.set_title(\"Distance Vs Runtime\\nUsing Heap Based Priority Queue\", pad=20,fontsize=15)\n",
    "plt.show()"
   ]
  },
  {
   "cell_type": "markdown",
   "metadata": {},
   "source": [
    "<font color=darkblue>**PLOT#2**:Distance Vs Runtime Using Heap Based Priority Queue </font><br/>\n",
    "<font color=green>**INSIGHT#2**: When heap based priority queue used, as distance between start and target increase, the runtime increases linearly<br/> For Example when distance goes frm 444 to 1373 (approximately 3 fold), runtime also increases 3 fold</font><br/>\n",
    "<font color=green>**INSIGHT#2.1**: When heap based priority queue used, The Algorithm chosen does not differentiates the runtime as much as the distance change differentiates</font>"
   ]
  },
  {
   "cell_type": "code",
   "execution_count": 15,
   "metadata": {},
   "outputs": [
    {
     "data": {
      "image/png": "[encoded data removed]",
      "text/plain": [
       "<Figure size 432x288 with 1 Axes>"
      ]
     },
     "metadata": {
      "needs_background": "light"
     },
     "output_type": "display_data"
    }
   ],
   "source": [
    "ax = df[['distance','BFS_2','A*_2']].plot(x='distance', kind='bar', legend=True, fontsize=12)\n",
    "ax.set_xlabel(\"Distance Between Start and Target\", labelpad=20, fontsize=13)\n",
    "ax.set_ylabel(\"Runtime(Sec)\", labelpad=20, fontsize=13)\n",
    "ax.set_title(\"Distance Vs Runtime\\nUsing Array Based Queue\", pad=20,fontsize=15)\n",
    "plt.show()"
   ]
  },
  {
   "cell_type": "markdown",
   "metadata": {},
   "source": [
    "<font color=darkblue>**PLOT#3**:Distance Vs Runtime Using Array Based Queue </font><br/>\n",
    "<font color=green>**INSIGHT#3**: As distance between start and target increase, the runtime increases 2 times of the increase of the distance<br/> For Example when distance goes from 444 to 1262 (approximately 4 fold), the runtime has increased approximately 7 fold, when distance goes from 686 to 1262 (approximately 2 fold), the runtime has increased approximately 3.5 fold<br/></font>"
   ]
  },
  {
   "cell_type": "markdown",
   "metadata": {},
   "source": [
    "### Max Queue Size Vs Runtime"
   ]
  },
  {
   "cell_type": "code",
   "execution_count": 16,
   "metadata": {},
   "outputs": [],
   "source": [
    "result_list = list()\n",
    "for i in range(10):\n",
    "    # get max size of queue\n",
    "    max_size = data_for_analysis[i][2]['max_size'][0]\n",
    "    # get runtime of each run of the algorithm\n",
    "    runtime = data_for_analysis[i][2]['runtime']\n",
    "    # insert into result\n",
    "    result_list.append( (max_size, runtime[0], runtime[1], runtime[2], runtime[3]) )\n",
    "    \n",
    "df = pd.DataFrame(result_list)\n",
    "df.index.name = 'Run'\n",
    "df.columns = ['max_size', 'BFS', 'BFS_2', 'A*', 'A*_2']\n",
    "df.sort_values('max_size', inplace=True, ascending=True)"
   ]
  },
  {
   "cell_type": "code",
   "execution_count": 17,
   "metadata": {},
   "outputs": [
    {
     "data": {
      "text/html": [
       "<div>\n",
       "<style scoped>\n",
       "    .dataframe tbody tr th:only-of-type {\n",
       "        vertical-align: middle;\n",
       "    }\n",
       "\n",
       "    .dataframe tbody tr th {\n",
       "        vertical-align: top;\n",
       "    }\n",
       "\n",
       "    .dataframe thead th {\n",
       "        text-align: right;\n",
       "    }\n",
       "</style>\n",
       "<table border=\"1\" class=\"dataframe\">\n",
       "  <thead>\n",
       "    <tr style=\"text-align: right;\">\n",
       "      <th></th>\n",
       "      <th>max_size</th>\n",
       "      <th>BFS</th>\n",
       "      <th>BFS_2</th>\n",
       "      <th>A*</th>\n",
       "      <th>A*_2</th>\n",
       "    </tr>\n",
       "    <tr>\n",
       "      <th>Run</th>\n",
       "      <th></th>\n",
       "      <th></th>\n",
       "      <th></th>\n",
       "      <th></th>\n",
       "      <th></th>\n",
       "    </tr>\n",
       "  </thead>\n",
       "  <tbody>\n",
       "    <tr>\n",
       "      <th>6</th>\n",
       "      <td>1333</td>\n",
       "      <td>0.110676</td>\n",
       "      <td>3.761390</td>\n",
       "      <td>0.116437</td>\n",
       "      <td>4.123912</td>\n",
       "    </tr>\n",
       "    <tr>\n",
       "      <th>1</th>\n",
       "      <td>1612</td>\n",
       "      <td>0.120699</td>\n",
       "      <td>5.707534</td>\n",
       "      <td>0.125885</td>\n",
       "      <td>6.310272</td>\n",
       "    </tr>\n",
       "    <tr>\n",
       "      <th>9</th>\n",
       "      <td>2059</td>\n",
       "      <td>0.143992</td>\n",
       "      <td>9.263585</td>\n",
       "      <td>0.154702</td>\n",
       "      <td>11.011851</td>\n",
       "    </tr>\n",
       "    <tr>\n",
       "      <th>3</th>\n",
       "      <td>2560</td>\n",
       "      <td>0.179465</td>\n",
       "      <td>15.436047</td>\n",
       "      <td>0.195236</td>\n",
       "      <td>15.559098</td>\n",
       "    </tr>\n",
       "    <tr>\n",
       "      <th>7</th>\n",
       "      <td>3007</td>\n",
       "      <td>0.195894</td>\n",
       "      <td>19.756621</td>\n",
       "      <td>0.205122</td>\n",
       "      <td>21.205108</td>\n",
       "    </tr>\n",
       "    <tr>\n",
       "      <th>2</th>\n",
       "      <td>3091</td>\n",
       "      <td>0.306339</td>\n",
       "      <td>21.844353</td>\n",
       "      <td>0.293159</td>\n",
       "      <td>24.266070</td>\n",
       "    </tr>\n",
       "    <tr>\n",
       "      <th>4</th>\n",
       "      <td>3184</td>\n",
       "      <td>0.213438</td>\n",
       "      <td>22.255030</td>\n",
       "      <td>0.227193</td>\n",
       "      <td>23.350760</td>\n",
       "    </tr>\n",
       "    <tr>\n",
       "      <th>8</th>\n",
       "      <td>3787</td>\n",
       "      <td>0.253136</td>\n",
       "      <td>32.029826</td>\n",
       "      <td>0.268092</td>\n",
       "      <td>38.369290</td>\n",
       "    </tr>\n",
       "    <tr>\n",
       "      <th>5</th>\n",
       "      <td>4081</td>\n",
       "      <td>0.265013</td>\n",
       "      <td>35.608561</td>\n",
       "      <td>0.285607</td>\n",
       "      <td>40.153373</td>\n",
       "    </tr>\n",
       "    <tr>\n",
       "      <th>0</th>\n",
       "      <td>4120</td>\n",
       "      <td>0.271096</td>\n",
       "      <td>37.765307</td>\n",
       "      <td>0.291605</td>\n",
       "      <td>40.457117</td>\n",
       "    </tr>\n",
       "  </tbody>\n",
       "</table>\n",
       "</div>"
      ],
      "text/plain": [
       "     max_size       BFS      BFS_2        A*       A*_2\n",
       "Run                                                    \n",
       "6        1333  0.110676   3.761390  0.116437   4.123912\n",
       "1        1612  0.120699   5.707534  0.125885   6.310272\n",
       "9        2059  0.143992   9.263585  0.154702  11.011851\n",
       "3        2560  0.179465  15.436047  0.195236  15.559098\n",
       "7        3007  0.195894  19.756621  0.205122  21.205108\n",
       "2        3091  0.306339  21.844353  0.293159  24.266070\n",
       "4        3184  0.213438  22.255030  0.227193  23.350760\n",
       "8        3787  0.253136  32.029826  0.268092  38.369290\n",
       "5        4081  0.265013  35.608561  0.285607  40.153373\n",
       "0        4120  0.271096  37.765307  0.291605  40.457117"
      ]
     },
     "execution_count": 17,
     "metadata": {},
     "output_type": "execute_result"
    }
   ],
   "source": [
    "df"
   ]
  },
  {
   "cell_type": "code",
   "execution_count": 18,
   "metadata": {},
   "outputs": [
    {
     "data": {
      "image/png": "[encoded data removed]",
      "text/plain": [
       "<Figure size 432x288 with 1 Axes>"
      ]
     },
     "metadata": {
      "needs_background": "light"
     },
     "output_type": "display_data"
    }
   ],
   "source": [
    "ax = df.plot(x='max_size', kind='bar', legend=True, fontsize=12)\n",
    "ax.set_xlabel(\"Max Queue Size\", labelpad=20, fontsize=13)\n",
    "ax.set_ylabel(\"Runtime(Sec)\", labelpad=20, fontsize=13)\n",
    "ax.set_title(\"Max Queue Size Vs Runtime\", pad=20,fontsize=15)\n",
    "plt.show()"
   ]
  },
  {
   "cell_type": "markdown",
   "metadata": {},
   "source": [
    "<font color=darkblue>**PLOT#4**:Max Queue Size Vs Runtime</font><br/>\n",
    "<font color=green>**INSIGHT#4**: As maximum queue size increase, runtime of the algorithms that have been implemented using array based queue becomes so inefficient</font>"
   ]
  },
  {
   "cell_type": "code",
   "execution_count": 19,
   "metadata": {},
   "outputs": [
    {
     "data": {
      "image/png": "[encoded data removed]",
      "text/plain": [
       "<Figure size 432x288 with 1 Axes>"
      ]
     },
     "metadata": {
      "needs_background": "light"
     },
     "output_type": "display_data"
    }
   ],
   "source": [
    "ax = df[['max_size','BFS','A*']].plot(x='max_size', kind='bar', legend=True, fontsize=12)\n",
    "ax.set_xlabel(\"Max Queue Size\", labelpad=20, fontsize=13)\n",
    "ax.set_ylabel(\"Runtime(Sec)\", labelpad=20, fontsize=13)\n",
    "ax.set_title(\"Max Queue Size Vs Runtime\\nUsing Heap Based Priority Queue\", pad=20,fontsize=15)\n",
    "plt.show()"
   ]
  },
  {
   "cell_type": "markdown",
   "metadata": {},
   "source": [
    "<font color=darkblue>**PLOT#5**:Max Queue Size Vs Runtime(sec) Using Heap Based Priority Queue </font><br/>"
   ]
  },
  {
   "cell_type": "code",
   "execution_count": 20,
   "metadata": {},
   "outputs": [
    {
     "data": {
      "image/png": "[encoded data removed]",
      "text/plain": [
       "<Figure size 432x288 with 1 Axes>"
      ]
     },
     "metadata": {
      "needs_background": "light"
     },
     "output_type": "display_data"
    }
   ],
   "source": [
    "ax = df[['max_size','BFS_2','A*_2']].plot(x='max_size', kind='bar', legend=True, fontsize=12)\n",
    "ax.set_xlabel(\"Max Queue Size\", labelpad=20, fontsize=13)\n",
    "ax.set_ylabel(\"Runtime(Sec)\", labelpad=20, fontsize=13)\n",
    "ax.set_title(\"Max Queue Size Vs Runtime\\nUsing Array Based Queue\", pad=20,fontsize=15)\n",
    "plt.show()"
   ]
  },
  {
   "cell_type": "markdown",
   "metadata": {},
   "source": [
    "<font color=darkblue>**PLOT#6**:Max Queue Size Vs Runtime(sec) Using Array Based Queue </font><br/>"
   ]
  },
  {
   "cell_type": "markdown",
   "metadata": {},
   "source": [
    "### Number of Deletions Vs Runtime"
   ]
  },
  {
   "cell_type": "code",
   "execution_count": 21,
   "metadata": {},
   "outputs": [],
   "source": [
    "result_list = list()\n",
    "for i in range(10):\n",
    "    # get number of deletions\n",
    "    n_deletions = data_for_analysis[i][2]['n_deletions'][0]\n",
    "    # get runtime of each run of the algorithm\n",
    "    runtime = data_for_analysis[i][2]['runtime']\n",
    "    # insert into result\n",
    "    result_list.append( (n_deletions, runtime[0], runtime[1], runtime[2], runtime[3]) )\n",
    "    \n",
    "df = pd.DataFrame(result_list)\n",
    "df.index.name = 'Run'\n",
    "df.columns = ['n_deletions', 'BFS', 'BFS_2', 'A*', 'A*_2']\n",
    "df.sort_values('n_deletions', inplace=True, ascending=True)"
   ]
  },
  {
   "cell_type": "code",
   "execution_count": 22,
   "metadata": {
    "scrolled": true
   },
   "outputs": [
    {
     "data": {
      "text/html": [
       "<div>\n",
       "<style scoped>\n",
       "    .dataframe tbody tr th:only-of-type {\n",
       "        vertical-align: middle;\n",
       "    }\n",
       "\n",
       "    .dataframe tbody tr th {\n",
       "        vertical-align: top;\n",
       "    }\n",
       "\n",
       "    .dataframe thead th {\n",
       "        text-align: right;\n",
       "    }\n",
       "</style>\n",
       "<table border=\"1\" class=\"dataframe\">\n",
       "  <thead>\n",
       "    <tr style=\"text-align: right;\">\n",
       "      <th></th>\n",
       "      <th>n_deletions</th>\n",
       "      <th>BFS</th>\n",
       "      <th>BFS_2</th>\n",
       "      <th>A*</th>\n",
       "      <th>A*_2</th>\n",
       "    </tr>\n",
       "    <tr>\n",
       "      <th>Run</th>\n",
       "      <th></th>\n",
       "      <th></th>\n",
       "      <th></th>\n",
       "      <th></th>\n",
       "      <th></th>\n",
       "    </tr>\n",
       "  </thead>\n",
       "  <tbody>\n",
       "    <tr>\n",
       "      <th>6</th>\n",
       "      <td>445</td>\n",
       "      <td>0.110676</td>\n",
       "      <td>3.761390</td>\n",
       "      <td>0.116437</td>\n",
       "      <td>4.123912</td>\n",
       "    </tr>\n",
       "    <tr>\n",
       "      <th>1</th>\n",
       "      <td>538</td>\n",
       "      <td>0.120699</td>\n",
       "      <td>5.707534</td>\n",
       "      <td>0.125885</td>\n",
       "      <td>6.310272</td>\n",
       "    </tr>\n",
       "    <tr>\n",
       "      <th>9</th>\n",
       "      <td>687</td>\n",
       "      <td>0.143992</td>\n",
       "      <td>9.263585</td>\n",
       "      <td>0.154702</td>\n",
       "      <td>11.011851</td>\n",
       "    </tr>\n",
       "    <tr>\n",
       "      <th>3</th>\n",
       "      <td>854</td>\n",
       "      <td>0.179465</td>\n",
       "      <td>15.436047</td>\n",
       "      <td>0.195236</td>\n",
       "      <td>15.559098</td>\n",
       "    </tr>\n",
       "    <tr>\n",
       "      <th>7</th>\n",
       "      <td>1003</td>\n",
       "      <td>0.195894</td>\n",
       "      <td>19.756621</td>\n",
       "      <td>0.205122</td>\n",
       "      <td>21.205108</td>\n",
       "    </tr>\n",
       "    <tr>\n",
       "      <th>2</th>\n",
       "      <td>1031</td>\n",
       "      <td>0.306339</td>\n",
       "      <td>21.844353</td>\n",
       "      <td>0.293159</td>\n",
       "      <td>24.266070</td>\n",
       "    </tr>\n",
       "    <tr>\n",
       "      <th>4</th>\n",
       "      <td>1062</td>\n",
       "      <td>0.213438</td>\n",
       "      <td>22.255030</td>\n",
       "      <td>0.227193</td>\n",
       "      <td>23.350760</td>\n",
       "    </tr>\n",
       "    <tr>\n",
       "      <th>8</th>\n",
       "      <td>1263</td>\n",
       "      <td>0.253136</td>\n",
       "      <td>32.029826</td>\n",
       "      <td>0.268092</td>\n",
       "      <td>38.369290</td>\n",
       "    </tr>\n",
       "    <tr>\n",
       "      <th>5</th>\n",
       "      <td>1361</td>\n",
       "      <td>0.265013</td>\n",
       "      <td>35.608561</td>\n",
       "      <td>0.285607</td>\n",
       "      <td>40.153373</td>\n",
       "    </tr>\n",
       "    <tr>\n",
       "      <th>0</th>\n",
       "      <td>1374</td>\n",
       "      <td>0.271096</td>\n",
       "      <td>37.765307</td>\n",
       "      <td>0.291605</td>\n",
       "      <td>40.457117</td>\n",
       "    </tr>\n",
       "  </tbody>\n",
       "</table>\n",
       "</div>"
      ],
      "text/plain": [
       "     n_deletions       BFS      BFS_2        A*       A*_2\n",
       "Run                                                       \n",
       "6            445  0.110676   3.761390  0.116437   4.123912\n",
       "1            538  0.120699   5.707534  0.125885   6.310272\n",
       "9            687  0.143992   9.263585  0.154702  11.011851\n",
       "3            854  0.179465  15.436047  0.195236  15.559098\n",
       "7           1003  0.195894  19.756621  0.205122  21.205108\n",
       "2           1031  0.306339  21.844353  0.293159  24.266070\n",
       "4           1062  0.213438  22.255030  0.227193  23.350760\n",
       "8           1263  0.253136  32.029826  0.268092  38.369290\n",
       "5           1361  0.265013  35.608561  0.285607  40.153373\n",
       "0           1374  0.271096  37.765307  0.291605  40.457117"
      ]
     },
     "execution_count": 22,
     "metadata": {},
     "output_type": "execute_result"
    }
   ],
   "source": [
    "df"
   ]
  },
  {
   "cell_type": "code",
   "execution_count": 23,
   "metadata": {},
   "outputs": [
    {
     "data": {
      "image/png": "[encoded data removed]",
      "text/plain": [
       "<Figure size 432x288 with 1 Axes>"
      ]
     },
     "metadata": {
      "needs_background": "light"
     },
     "output_type": "display_data"
    }
   ],
   "source": [
    "ax = df.plot(x='n_deletions', kind='bar', legend=True, fontsize=12)\n",
    "ax.set_xlabel(\"Number of Deletions\", labelpad=20, fontsize=13)\n",
    "ax.set_ylabel(\"Runtime(Sec)\", labelpad=20, fontsize=13)\n",
    "ax.set_title(\"Number of Deletions Vs Runtime\", pad=20,fontsize=15)\n",
    "plt.show()"
   ]
  },
  {
   "cell_type": "markdown",
   "metadata": {},
   "source": [
    "<font color=darkblue>**PLOT#7**:Runtime Vs Number of Deletions </font><br/>\n",
    "<font color=green>**INSIGHT#7**: Runtime of the algorithms that has used array based queue as back end<span>(BFS_2, A*_2)</span> is far higher than the ones that has used heap priority queue</font><br/>\n",
    "<font color=green><b>INSIGHT#7.1</b>:  Number of deletions do effect runtime in a approximately linear fashion</font>"
   ]
  },
  {
   "cell_type": "code",
   "execution_count": 24,
   "metadata": {},
   "outputs": [
    {
     "data": {
      "image/png": "[encoded data removed]",
      "text/plain": [
       "<Figure size 432x288 with 1 Axes>"
      ]
     },
     "metadata": {
      "needs_background": "light"
     },
     "output_type": "display_data"
    }
   ],
   "source": [
    "ax = df[['n_deletions','BFS','A*']].plot(x='n_deletions', kind='bar', legend=True, fontsize=12)\n",
    "ax.set_xlabel(\"Number of Deletions\", labelpad=20, fontsize=13)\n",
    "ax.set_ylabel(\"Runtime(Sec)\", labelpad=20, fontsize=13)\n",
    "ax.set_title(\"Number of Deletions Vs Runtime\\nUsing Heap Based Priority Queue\", pad=20,fontsize=15)\n",
    "plt.show()"
   ]
  },
  {
   "cell_type": "markdown",
   "metadata": {},
   "source": [
    "<font color=darkblue>**PLOT#8**: Runtime(sec) Vs Number of Deletions </font><br/>\n",
    "<font color=green>**INSIGHT#8**: In general number of deletions does not increases run time so much when heap based priority queue used</font><br/>\n",
    "<font color=green>**INSIGHT#8.1**: Algorithm used does not differentiate the time taken much as long as heap based priority queue used.</font>"
   ]
  },
  {
   "cell_type": "code",
   "execution_count": 25,
   "metadata": {},
   "outputs": [
    {
     "data": {
      "image/png": "[encoded data removed]",
      "text/plain": [
       "<Figure size 432x288 with 1 Axes>"
      ]
     },
     "metadata": {
      "needs_background": "light"
     },
     "output_type": "display_data"
    }
   ],
   "source": [
    "ax = df[['n_deletions','BFS_2','A*_2']].plot(x='n_deletions', kind='bar', legend=True, fontsize=12)\n",
    "ax.set_xlabel(\"Number of Deletions\", labelpad=20, fontsize=13)\n",
    "ax.set_ylabel(\"Runtime(Sec)\", labelpad=20, fontsize=13)\n",
    "ax.set_title(\"Number of Deletions Vs Runtime\\nUsing Array Based Queue\", pad=20,fontsize=15)\n",
    "plt.show()"
   ]
  },
  {
   "cell_type": "markdown",
   "metadata": {},
   "source": [
    "<font color=darkblue>**PLOT#9**:Number of Deletions Vs Runtime(sec) using Array Based Queue </font><br/>\n",
    "<font color=green>**INSIGHT#9**: The algorithm used does not change the runtime much but rather the number of deletions.</font><br/>\n",
    "<font color=green>**INSIGHT#9.1**: When array based queue used, it tends to be computationally extensive.</font>"
   ]
  },
  {
   "cell_type": "markdown",
   "metadata": {},
   "source": [
    "### Distance vs Number of Deletions"
   ]
  },
  {
   "cell_type": "code",
   "execution_count": 26,
   "metadata": {},
   "outputs": [],
   "source": [
    "result_list = list()\n",
    "for i in range(10):\n",
    "    # calculate distance\n",
    "    start = data_for_analysis[i][0]\n",
    "    target = data_for_analysis[i][1]\n",
    "    distance = Pixel.manhattan_distance(start[0],start[1],target[0],target[1])\n",
    "    # get number of deletions\n",
    "    n_deletions = data_for_analysis[i][2]['n_deletions'][0]\n",
    "    # insert into result\n",
    "    result_list.append( (distance,n_deletions) )\n",
    "    \n",
    "df = pd.DataFrame(result_list)\n",
    "df.index.name = 'Run'\n",
    "df.columns = ['distance', 'n_deletion']"
   ]
  },
  {
   "cell_type": "code",
   "execution_count": 27,
   "metadata": {},
   "outputs": [
    {
     "data": {
      "text/html": [
       "<div>\n",
       "<style scoped>\n",
       "    .dataframe tbody tr th:only-of-type {\n",
       "        vertical-align: middle;\n",
       "    }\n",
       "\n",
       "    .dataframe tbody tr th {\n",
       "        vertical-align: top;\n",
       "    }\n",
       "\n",
       "    .dataframe thead th {\n",
       "        text-align: right;\n",
       "    }\n",
       "</style>\n",
       "<table border=\"1\" class=\"dataframe\">\n",
       "  <thead>\n",
       "    <tr style=\"text-align: right;\">\n",
       "      <th></th>\n",
       "      <th>distance</th>\n",
       "      <th>n_deletion</th>\n",
       "    </tr>\n",
       "    <tr>\n",
       "      <th>Run</th>\n",
       "      <th></th>\n",
       "      <th></th>\n",
       "    </tr>\n",
       "  </thead>\n",
       "  <tbody>\n",
       "    <tr>\n",
       "      <th>0</th>\n",
       "      <td>1373</td>\n",
       "      <td>1374</td>\n",
       "    </tr>\n",
       "    <tr>\n",
       "      <th>1</th>\n",
       "      <td>537</td>\n",
       "      <td>538</td>\n",
       "    </tr>\n",
       "    <tr>\n",
       "      <th>2</th>\n",
       "      <td>1030</td>\n",
       "      <td>1031</td>\n",
       "    </tr>\n",
       "    <tr>\n",
       "      <th>3</th>\n",
       "      <td>853</td>\n",
       "      <td>854</td>\n",
       "    </tr>\n",
       "    <tr>\n",
       "      <th>4</th>\n",
       "      <td>1061</td>\n",
       "      <td>1062</td>\n",
       "    </tr>\n",
       "    <tr>\n",
       "      <th>5</th>\n",
       "      <td>1360</td>\n",
       "      <td>1361</td>\n",
       "    </tr>\n",
       "    <tr>\n",
       "      <th>6</th>\n",
       "      <td>444</td>\n",
       "      <td>445</td>\n",
       "    </tr>\n",
       "    <tr>\n",
       "      <th>7</th>\n",
       "      <td>1002</td>\n",
       "      <td>1003</td>\n",
       "    </tr>\n",
       "    <tr>\n",
       "      <th>8</th>\n",
       "      <td>1262</td>\n",
       "      <td>1263</td>\n",
       "    </tr>\n",
       "    <tr>\n",
       "      <th>9</th>\n",
       "      <td>686</td>\n",
       "      <td>687</td>\n",
       "    </tr>\n",
       "  </tbody>\n",
       "</table>\n",
       "</div>"
      ],
      "text/plain": [
       "     distance  n_deletion\n",
       "Run                      \n",
       "0        1373        1374\n",
       "1         537         538\n",
       "2        1030        1031\n",
       "3         853         854\n",
       "4        1061        1062\n",
       "5        1360        1361\n",
       "6         444         445\n",
       "7        1002        1003\n",
       "8        1262        1263\n",
       "9         686         687"
      ]
     },
     "execution_count": 27,
     "metadata": {},
     "output_type": "execute_result"
    }
   ],
   "source": [
    "df"
   ]
  },
  {
   "cell_type": "code",
   "execution_count": 28,
   "metadata": {},
   "outputs": [
    {
     "data": {
      "text/plain": [
       "<matplotlib.axes._subplots.AxesSubplot at 0x1970edfb1c8>"
      ]
     },
     "execution_count": 28,
     "metadata": {},
     "output_type": "execute_result"
    },
    {
     "data": {
      "image/png": "[encoded data removed]",
      "text/plain": [
       "<Figure size 432x288 with 1 Axes>"
      ]
     },
     "metadata": {
      "needs_background": "light"
     },
     "output_type": "display_data"
    }
   ],
   "source": [
    "df.plot(x='distance', y='n_deletion')"
   ]
  },
  {
   "cell_type": "markdown",
   "metadata": {},
   "source": [
    "<font color=darkblue>**PLOT#10**:Distance Vs Number of Deletions </font><br/>\n",
    "<font color=green>**INSIGHT#10**: In general Distance and Number of Deletions is almost same</font><br/>"
   ]
  },
  {
   "cell_type": "markdown",
   "metadata": {},
   "source": [
    "### Distance Vs Max Queue Size"
   ]
  },
  {
   "cell_type": "code",
   "execution_count": 29,
   "metadata": {},
   "outputs": [],
   "source": [
    "result_list = list()\n",
    "for i in range(10):\n",
    "    # calculate distance\n",
    "    start = data_for_analysis[i][0]\n",
    "    target = data_for_analysis[i][1]\n",
    "    distance = Pixel.manhattan_distance(start[0],start[1],target[0],target[1])\n",
    "    # get max queue size\n",
    "    max_size = data_for_analysis[i][2]['max_size'][0]\n",
    "    # insert into result\n",
    "    result_list.append( (distance,max_size) )\n",
    "    \n",
    "df = pd.DataFrame(result_list)\n",
    "df.index.name = 'Run'\n",
    "df.columns = ['distance', 'max_size']"
   ]
  },
  {
   "cell_type": "code",
   "execution_count": 30,
   "metadata": {},
   "outputs": [
    {
     "data": {
      "text/html": [
       "<div>\n",
       "<style scoped>\n",
       "    .dataframe tbody tr th:only-of-type {\n",
       "        vertical-align: middle;\n",
       "    }\n",
       "\n",
       "    .dataframe tbody tr th {\n",
       "        vertical-align: top;\n",
       "    }\n",
       "\n",
       "    .dataframe thead th {\n",
       "        text-align: right;\n",
       "    }\n",
       "</style>\n",
       "<table border=\"1\" class=\"dataframe\">\n",
       "  <thead>\n",
       "    <tr style=\"text-align: right;\">\n",
       "      <th></th>\n",
       "      <th>distance</th>\n",
       "      <th>max_size</th>\n",
       "    </tr>\n",
       "    <tr>\n",
       "      <th>Run</th>\n",
       "      <th></th>\n",
       "      <th></th>\n",
       "    </tr>\n",
       "  </thead>\n",
       "  <tbody>\n",
       "    <tr>\n",
       "      <th>0</th>\n",
       "      <td>1373</td>\n",
       "      <td>4120</td>\n",
       "    </tr>\n",
       "    <tr>\n",
       "      <th>1</th>\n",
       "      <td>537</td>\n",
       "      <td>1612</td>\n",
       "    </tr>\n",
       "    <tr>\n",
       "      <th>2</th>\n",
       "      <td>1030</td>\n",
       "      <td>3091</td>\n",
       "    </tr>\n",
       "    <tr>\n",
       "      <th>3</th>\n",
       "      <td>853</td>\n",
       "      <td>2560</td>\n",
       "    </tr>\n",
       "    <tr>\n",
       "      <th>4</th>\n",
       "      <td>1061</td>\n",
       "      <td>3184</td>\n",
       "    </tr>\n",
       "    <tr>\n",
       "      <th>5</th>\n",
       "      <td>1360</td>\n",
       "      <td>4081</td>\n",
       "    </tr>\n",
       "    <tr>\n",
       "      <th>6</th>\n",
       "      <td>444</td>\n",
       "      <td>1333</td>\n",
       "    </tr>\n",
       "    <tr>\n",
       "      <th>7</th>\n",
       "      <td>1002</td>\n",
       "      <td>3007</td>\n",
       "    </tr>\n",
       "    <tr>\n",
       "      <th>8</th>\n",
       "      <td>1262</td>\n",
       "      <td>3787</td>\n",
       "    </tr>\n",
       "    <tr>\n",
       "      <th>9</th>\n",
       "      <td>686</td>\n",
       "      <td>2059</td>\n",
       "    </tr>\n",
       "  </tbody>\n",
       "</table>\n",
       "</div>"
      ],
      "text/plain": [
       "     distance  max_size\n",
       "Run                    \n",
       "0        1373      4120\n",
       "1         537      1612\n",
       "2        1030      3091\n",
       "3         853      2560\n",
       "4        1061      3184\n",
       "5        1360      4081\n",
       "6         444      1333\n",
       "7        1002      3007\n",
       "8        1262      3787\n",
       "9         686      2059"
      ]
     },
     "execution_count": 30,
     "metadata": {},
     "output_type": "execute_result"
    }
   ],
   "source": [
    "df"
   ]
  },
  {
   "cell_type": "code",
   "execution_count": 31,
   "metadata": {},
   "outputs": [
    {
     "data": {
      "text/plain": [
       "<matplotlib.axes._subplots.AxesSubplot at 0x1970f1158c8>"
      ]
     },
     "execution_count": 31,
     "metadata": {},
     "output_type": "execute_result"
    },
    {
     "data": {
      "image/png": "[encoded data removed]",
      "text/plain": [
       "<Figure size 432x288 with 1 Axes>"
      ]
     },
     "metadata": {
      "needs_background": "light"
     },
     "output_type": "display_data"
    }
   ],
   "source": [
    "df.plot(x='distance', y='max_size')"
   ]
  },
  {
   "cell_type": "markdown",
   "metadata": {},
   "source": [
    "<font color=darkblue>**PLOT#11**:Distance Vs Max Queue Size </font><br/>\n",
    "<font color=green>**INSIGHT#11**: As distance between start and target increase, max queue size is also increasein a linearly fashion</font><br/>\n",
    "<font color=green>**INSIGHT#11.1**: Maximum queue size used is tend to be 3 fold of distance between starting and target point</font>"
   ]
  },
  {
   "cell_type": "markdown",
   "metadata": {},
   "source": [
    "### Max Queue Size Vs Number of Deletions "
   ]
  },
  {
   "cell_type": "code",
   "execution_count": 32,
   "metadata": {},
   "outputs": [],
   "source": [
    "result_list = list()\n",
    "for i in range(10):\n",
    "    # get max size of queue\n",
    "    max_size = data_for_analysis[i][2]['max_size'][0]\n",
    "    # get number of deletions\n",
    "    n_deletions = data_for_analysis[i][2]['n_deletions'][0]\n",
    "    # insert into result\n",
    "    result_list.append( (max_size, n_deletions) )\n",
    "    \n",
    "df = pd.DataFrame(result_list)\n",
    "df.index.name = 'Run'\n",
    "df.columns = ['max_size', 'n_deletions']"
   ]
  },
  {
   "cell_type": "code",
   "execution_count": 33,
   "metadata": {},
   "outputs": [
    {
     "data": {
      "text/html": [
       "<div>\n",
       "<style scoped>\n",
       "    .dataframe tbody tr th:only-of-type {\n",
       "        vertical-align: middle;\n",
       "    }\n",
       "\n",
       "    .dataframe tbody tr th {\n",
       "        vertical-align: top;\n",
       "    }\n",
       "\n",
       "    .dataframe thead th {\n",
       "        text-align: right;\n",
       "    }\n",
       "</style>\n",
       "<table border=\"1\" class=\"dataframe\">\n",
       "  <thead>\n",
       "    <tr style=\"text-align: right;\">\n",
       "      <th></th>\n",
       "      <th>max_size</th>\n",
       "      <th>n_deletions</th>\n",
       "    </tr>\n",
       "    <tr>\n",
       "      <th>Run</th>\n",
       "      <th></th>\n",
       "      <th></th>\n",
       "    </tr>\n",
       "  </thead>\n",
       "  <tbody>\n",
       "    <tr>\n",
       "      <th>0</th>\n",
       "      <td>4120</td>\n",
       "      <td>1374</td>\n",
       "    </tr>\n",
       "    <tr>\n",
       "      <th>1</th>\n",
       "      <td>1612</td>\n",
       "      <td>538</td>\n",
       "    </tr>\n",
       "    <tr>\n",
       "      <th>2</th>\n",
       "      <td>3091</td>\n",
       "      <td>1031</td>\n",
       "    </tr>\n",
       "    <tr>\n",
       "      <th>3</th>\n",
       "      <td>2560</td>\n",
       "      <td>854</td>\n",
       "    </tr>\n",
       "    <tr>\n",
       "      <th>4</th>\n",
       "      <td>3184</td>\n",
       "      <td>1062</td>\n",
       "    </tr>\n",
       "    <tr>\n",
       "      <th>5</th>\n",
       "      <td>4081</td>\n",
       "      <td>1361</td>\n",
       "    </tr>\n",
       "    <tr>\n",
       "      <th>6</th>\n",
       "      <td>1333</td>\n",
       "      <td>445</td>\n",
       "    </tr>\n",
       "    <tr>\n",
       "      <th>7</th>\n",
       "      <td>3007</td>\n",
       "      <td>1003</td>\n",
       "    </tr>\n",
       "    <tr>\n",
       "      <th>8</th>\n",
       "      <td>3787</td>\n",
       "      <td>1263</td>\n",
       "    </tr>\n",
       "    <tr>\n",
       "      <th>9</th>\n",
       "      <td>2059</td>\n",
       "      <td>687</td>\n",
       "    </tr>\n",
       "  </tbody>\n",
       "</table>\n",
       "</div>"
      ],
      "text/plain": [
       "     max_size  n_deletions\n",
       "Run                       \n",
       "0        4120         1374\n",
       "1        1612          538\n",
       "2        3091         1031\n",
       "3        2560          854\n",
       "4        3184         1062\n",
       "5        4081         1361\n",
       "6        1333          445\n",
       "7        3007         1003\n",
       "8        3787         1263\n",
       "9        2059          687"
      ]
     },
     "execution_count": 33,
     "metadata": {},
     "output_type": "execute_result"
    }
   ],
   "source": [
    "df"
   ]
  },
  {
   "cell_type": "code",
   "execution_count": 34,
   "metadata": {},
   "outputs": [
    {
     "data": {
      "text/plain": [
       "<matplotlib.axes._subplots.AxesSubplot at 0x19710152f08>"
      ]
     },
     "execution_count": 34,
     "metadata": {},
     "output_type": "execute_result"
    },
    {
     "data": {
      "image/png": "[encoded data removed]",
      "text/plain": [
       "<Figure size 432x288 with 1 Axes>"
      ]
     },
     "metadata": {
      "needs_background": "light"
     },
     "output_type": "display_data"
    }
   ],
   "source": [
    "df.plot(x='max_size', y='n_deletions')"
   ]
  },
  {
   "cell_type": "markdown",
   "metadata": {},
   "source": [
    "<font color=darkblue>**PLOT#13**:Max Queue Size Vs Number of Deletions </font><br/>\n",
    "<font color=green>**INSIGHT#13**: As max queue size used increase, number of deletions also increases in a linearly fashion</font><br/>\n",
    "<font color=green>**INSIGHT#13.1**: Maximum queue size used is tend to be 3 fold of number of deletions</font>"
   ]
  },
  {
   "cell_type": "code",
   "execution_count": null,
   "metadata": {},
   "outputs": [],
   "source": []
  }
 ],
 "metadata": {
  "kernelspec": {
   "display_name": "Python 3",
   "language": "python",
   "name": "python3"
  },
  "language_info": {
   "codemirror_mode": {
    "name": "ipython",
    "version": 3
   },
   "file_extension": ".py",
   "mimetype": "text/x-python",
   "name": "python",
   "nbconvert_exporter": "python",
   "pygments_lexer": "ipython3",
   "version": "3.7.4"
  }
 },
 "nbformat": 4,
 "nbformat_minor": 4
}
