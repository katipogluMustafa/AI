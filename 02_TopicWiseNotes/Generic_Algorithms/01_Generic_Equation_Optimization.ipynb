{
 "cells": [
  {
   "cell_type": "markdown",
   "metadata": {},
   "source": [
    "# Optimizing Equation Weights With Generic Algorithm"
   ]
  },
  {
   "cell_type": "code",
   "execution_count": 1,
   "metadata": {},
   "outputs": [],
   "source": [
    "import numpy"
   ]
  },
  {
   "cell_type": "markdown",
   "metadata": {},
   "source": [
    "## Genetic Algoritm Functions"
   ]
  },
  {
   "cell_type": "code",
   "execution_count": 13,
   "metadata": {},
   "outputs": [],
   "source": [
    "def fitness(equation_inputs, population):\n",
    "    \"\"\"\n",
    "    Calculate the fitness value of each solution in the current population.\n",
    "    The fitness function calculates the sum of products between each input and its corresponding weight.\n",
    "    \"\"\"\n",
    "    \n",
    "    return numpy.sum(population * equation_inputs, axis=1)\n",
    "\n",
    "\n",
    "def select_best_parents(population, fitness_values, n_parents):\n",
    "    \"\"\"\n",
    "    Selecting the best individuals in the current generation as parents for producing the offspring of the next generation.\n",
    "    \"\"\"\n",
    "    parents = numpy.empty((n_parents, population.shape[1]))\n",
    "    for parent in range(n_parents):\n",
    "        max_fitness_idx = numpy.where(fitness_values == numpy.max(fitness_values))\n",
    "        max_fitness_idx = max_fitness_idx[0][0]\n",
    "        parents[parent, :] = population[max_fitness_idx, :]\n",
    "        fitness_values[max_fitness_idx] = -999999\n",
    "    return parents\n",
    "\n",
    "def cross_over(parents, offspring_size):\n",
    "    \"\"\"\n",
    "    Cross over the parents and get offsprings\n",
    "    \"\"\"\n",
    "    offspring = numpy.empty(offspring_size)\n",
    "    #  The point at which crossover takes place between two parents. Usually it is at the center.\n",
    "    cross_over_point = numpy.uint8(offspring_size[1]/2)\n",
    "    \n",
    "    for k in range(offspring_size[0]):\n",
    "        parent_1_idx = k % parents.shape[0]         # In circular fashion\n",
    "        parent_2_idx = (k+1) % parents.shape[0]\n",
    "        # The new offspring will have its first half of its genes taken from the first parent the part from the second parent. \n",
    "        offspring[k,0:cross_over_point] = parents[parent_1_idx, 0:cross_over_point]\n",
    "        offspring[k,cross_over_point:] = parents[parent_2_idx, cross_over_point:]\n",
    "    return offspring\n",
    "\n",
    "def mutate(offspring_crossover):\n",
    "    \"\"\"\n",
    "    Mutate a single gene in each offspring randomly.\n",
    "    \"\"\"\n",
    "    for idx in range(offspring_crossover.shape[0]):\n",
    "        # Add random value to a gene.\n",
    "        random_value = numpy.random.uniform(-1.0, 1.0, 1)\n",
    "        offspring_crossover[idx, 4] = offspring_crossover[idx, 4] + random_value\n",
    "    return offspring_crossover"
   ]
  },
  {
   "cell_type": "markdown",
   "metadata": {},
   "source": [
    "The target is to maximize this equation ASAP: <br/>\n",
    "y = w<sub>1</sub>x<sub>1</sub> + w<sub>2</sub>x<sub>2</sub> + w<sub>3</sub>x<sub>3</sub> + w<sub>4</sub>x<sub>4</sub> + w<sub>5</sub>x<sub>5</sub> + w<sub>6</sub>x<sub>6</sub>\n",
    "\n",
    "where (x<sub>1</sub>, x<sub>2</sub>, x<sub>3</sub>, x<sub>4</sub>, x<sub>5</sub>, x<sub>6</sub>)=(4, -2, 3.5, 5, -11, -4.7)\n",
    "\n",
    "We are going to use the genetic algorithm for the best possible values after a number of generations."
   ]
  },
  {
   "cell_type": "code",
   "execution_count": 14,
   "metadata": {},
   "outputs": [
    {
     "data": {
      "text/plain": [
       "array([[ 3.49420988,  3.09351571, -3.50896215, -1.78786719,  2.32980372,\n",
       "        -2.24482836],\n",
       "       [-3.88567145,  2.03534298, -0.50832458,  1.18435314,  0.35062223,\n",
       "        -2.86351271],\n",
       "       [-2.11407151, -2.13662756,  1.66378843,  0.9423361 , -1.8888901 ,\n",
       "        -2.16801647],\n",
       "       [-1.78785967, -0.70598962,  0.18544499,  0.84444249,  2.03130726,\n",
       "         3.78193581],\n",
       "       [ 1.95329918,  2.25609673,  2.40907556,  1.17209093,  1.13868448,\n",
       "        -0.38808826],\n",
       "       [-1.38127768,  2.63354571, -0.89483159,  3.18486733,  3.40692298,\n",
       "         3.4353701 ],\n",
       "       [ 0.45139998, -1.28464859, -1.36076736, -1.97794406,  2.05130094,\n",
       "        -3.8889692 ],\n",
       "       [ 0.06920251,  2.1781542 , -0.13843026,  2.33248041, -3.5067344 ,\n",
       "        -0.61754158]])"
      ]
     },
     "execution_count": 14,
     "metadata": {},
     "output_type": "execute_result"
    }
   ],
   "source": [
    "# Inputs of the equation.\n",
    "equation_inputs = [4,-2,3.5,5,-11,-4.7]\n",
    "\n",
    "# Number of the weights we are looking to optimize.\n",
    "n_weights = 6\n",
    "\n",
    "\"\"\"\n",
    "Genetic algorithm parameters:\n",
    "    Mating pool size\n",
    "    Population size\n",
    "\"\"\"\n",
    "solution_per_population = 8\n",
    "n_parents_mating = 4\n",
    "\n",
    "# The population will have sol_per_pop chromosome where each chromosome has num_weights genes.\n",
    "population_size = (solution_per_population, n_weights)\n",
    "\n",
    "# Creating the initial population\n",
    "new_population = numpy.random.uniform(low=-4.0, high=4.0, size=population_size)\n",
    "\n",
    "new_population"
   ]
  },
  {
   "cell_type": "code",
   "execution_count": 15,
   "metadata": {
    "scrolled": true
   },
   "outputs": [
    {
     "name": "stdout",
     "output_type": "stream",
     "text": [
      "Generation: 0\n",
      "Best Result :  48.57492162697324\n",
      "Generation: 1\n",
      "Best Result :  69.55880363184643\n",
      "Generation: 2\n",
      "Best Result :  72.06557335022445\n",
      "Generation: 3\n",
      "Best Result :  77.1200811822613\n",
      "Generation: 4\n",
      "Best Result :  77.58671027338963\n",
      "Best Solution :  [[[ 1.95329918  2.25609673  2.40907556  2.33248041 -4.66264501\n",
      "   -0.61754158]]]\n",
      "Best Solution Fitness :  [77.58671027]\n"
     ]
    }
   ],
   "source": [
    "n_generations = 5\n",
    "\n",
    "for generation in range(n_generations):\n",
    "    print(f\"Generation: {generation}\")\n",
    "    \n",
    "    # Calculate fitness of each chromosome\n",
    "    fitness_values = fitness(equation_inputs, new_population)\n",
    "    \n",
    "    # Select the best parents for mating\n",
    "    best_parents = select_best_parents(new_population, fitness_values, n_parents_mating)\n",
    "    \n",
    "    # Generate next generation using cross-over\n",
    "    offspring_crossover = cross_over(best_parents, offspring_size=(population_size[0] - best_parents.shape[0], n_weights))\n",
    "    \n",
    "    # Add some variations to offsprings using mutation.\n",
    "    mutated_offsprings = mutate(offspring_crossover)\n",
    "    \n",
    "    # Create the new generation based on best parents and offsprings\n",
    "    new_population[:best_parents.shape[0], :] = best_parents\n",
    "    new_population[best_parents.shape[0]:, :] = mutated_offsprings\n",
    "    \n",
    "    # Print the best results of current iteration\n",
    "    print(\"Best Result : \", numpy.max(numpy.sum(new_population*equation_inputs, axis=1)))\n",
    "\n",
    "# Get best solutions after all iterations are done.\n",
    "fitness_of_final_population = fitness(equation_inputs, new_population)\n",
    "\n",
    "# Return the index of the best fit choromosome\n",
    "best_match_idx = numpy.where(fitness_of_final_population == numpy.max(fitness_of_final_population))\n",
    "\n",
    "print(\"Best Solution : \", new_population[best_match_idx, :])\n",
    "print(\"Best Solution Fitness : \", fitness_of_final_population[best_match_idx])"
   ]
  },
  {
   "cell_type": "code",
   "execution_count": null,
   "metadata": {},
   "outputs": [],
   "source": []
  }
 ],
 "metadata": {
  "kernelspec": {
   "display_name": "Python 3",
   "language": "python",
   "name": "python3"
  },
  "language_info": {
   "codemirror_mode": {
    "name": "ipython",
    "version": 3
   },
   "file_extension": ".py",
   "mimetype": "text/x-python",
   "name": "python",
   "nbconvert_exporter": "python",
   "pygments_lexer": "ipython3",
   "version": "3.7.4"
  }
 },
 "nbformat": 4,
 "nbformat_minor": 4
}
